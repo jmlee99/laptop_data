{
 "cells": [
  {
   "cell_type": "code",
   "execution_count": 301,
   "id": "236e3148",
   "metadata": {},
   "outputs": [],
   "source": [
    "import numpy as np\n",
    "import pandas as pd\n",
    "import matplotlib.pyplot as plt\n",
    "import seaborn as sns\n",
    "from scipy import stats\n",
    "\n",
    "\n",
    "from sklearn.model_selection import train_test_split\n",
    "from sklearn.linear_model import LinearRegression, SGDRegressor, Ridge, Lasso\n",
    "from sklearn.metrics import r2_score, mean_squared_error\n",
    "from sklearn.preprocessing import LabelEncoder, MinMaxScaler, StandardScaler"
   ]
  },
  {
   "cell_type": "code",
   "execution_count": 302,
   "id": "27573c6a",
   "metadata": {},
   "outputs": [],
   "source": [
    "# 리눅스 한글 설정\n",
    "plt.rc('font', family = 'NanumGothic')"
   ]
  },
  {
   "cell_type": "code",
   "execution_count": 303,
   "id": "87836c48",
   "metadata": {},
   "outputs": [
    {
     "data": {
      "text/html": [
       "<div>\n",
       "<style scoped>\n",
       "    .dataframe tbody tr th:only-of-type {\n",
       "        vertical-align: middle;\n",
       "    }\n",
       "\n",
       "    .dataframe tbody tr th {\n",
       "        vertical-align: top;\n",
       "    }\n",
       "\n",
       "    .dataframe thead th {\n",
       "        text-align: right;\n",
       "    }\n",
       "</style>\n",
       "<table border=\"1\" class=\"dataframe\">\n",
       "  <thead>\n",
       "    <tr style=\"text-align: right;\">\n",
       "      <th></th>\n",
       "      <th>laptop_ID</th>\n",
       "      <th>Company</th>\n",
       "      <th>Product</th>\n",
       "      <th>TypeName</th>\n",
       "      <th>Inches</th>\n",
       "      <th>ScreenResolution</th>\n",
       "      <th>Cpu</th>\n",
       "      <th>Ram</th>\n",
       "      <th>Memory</th>\n",
       "      <th>Gpu</th>\n",
       "      <th>OpSys</th>\n",
       "      <th>Weight</th>\n",
       "      <th>Price_euros</th>\n",
       "    </tr>\n",
       "  </thead>\n",
       "  <tbody>\n",
       "    <tr>\n",
       "      <th>0</th>\n",
       "      <td>1</td>\n",
       "      <td>Apple</td>\n",
       "      <td>MacBook Pro</td>\n",
       "      <td>Ultrabook</td>\n",
       "      <td>13.3</td>\n",
       "      <td>IPS Panel Retina Display 2560x1600</td>\n",
       "      <td>Intel Core i5 2.3GHz</td>\n",
       "      <td>8GB</td>\n",
       "      <td>128GB SSD</td>\n",
       "      <td>Intel Iris Plus Graphics 640</td>\n",
       "      <td>macOS</td>\n",
       "      <td>1.37kg</td>\n",
       "      <td>1339.69</td>\n",
       "    </tr>\n",
       "    <tr>\n",
       "      <th>1</th>\n",
       "      <td>2</td>\n",
       "      <td>Apple</td>\n",
       "      <td>Macbook Air</td>\n",
       "      <td>Ultrabook</td>\n",
       "      <td>13.3</td>\n",
       "      <td>1440x900</td>\n",
       "      <td>Intel Core i5 1.8GHz</td>\n",
       "      <td>8GB</td>\n",
       "      <td>128GB Flash Storage</td>\n",
       "      <td>Intel HD Graphics 6000</td>\n",
       "      <td>macOS</td>\n",
       "      <td>1.34kg</td>\n",
       "      <td>898.94</td>\n",
       "    </tr>\n",
       "    <tr>\n",
       "      <th>2</th>\n",
       "      <td>3</td>\n",
       "      <td>HP</td>\n",
       "      <td>250 G6</td>\n",
       "      <td>Notebook</td>\n",
       "      <td>15.6</td>\n",
       "      <td>Full HD 1920x1080</td>\n",
       "      <td>Intel Core i5 7200U 2.5GHz</td>\n",
       "      <td>8GB</td>\n",
       "      <td>256GB SSD</td>\n",
       "      <td>Intel HD Graphics 620</td>\n",
       "      <td>No OS</td>\n",
       "      <td>1.86kg</td>\n",
       "      <td>575.00</td>\n",
       "    </tr>\n",
       "    <tr>\n",
       "      <th>3</th>\n",
       "      <td>4</td>\n",
       "      <td>Apple</td>\n",
       "      <td>MacBook Pro</td>\n",
       "      <td>Ultrabook</td>\n",
       "      <td>15.4</td>\n",
       "      <td>IPS Panel Retina Display 2880x1800</td>\n",
       "      <td>Intel Core i7 2.7GHz</td>\n",
       "      <td>16GB</td>\n",
       "      <td>512GB SSD</td>\n",
       "      <td>AMD Radeon Pro 455</td>\n",
       "      <td>macOS</td>\n",
       "      <td>1.83kg</td>\n",
       "      <td>2537.45</td>\n",
       "    </tr>\n",
       "    <tr>\n",
       "      <th>4</th>\n",
       "      <td>5</td>\n",
       "      <td>Apple</td>\n",
       "      <td>MacBook Pro</td>\n",
       "      <td>Ultrabook</td>\n",
       "      <td>13.3</td>\n",
       "      <td>IPS Panel Retina Display 2560x1600</td>\n",
       "      <td>Intel Core i5 3.1GHz</td>\n",
       "      <td>8GB</td>\n",
       "      <td>256GB SSD</td>\n",
       "      <td>Intel Iris Plus Graphics 650</td>\n",
       "      <td>macOS</td>\n",
       "      <td>1.37kg</td>\n",
       "      <td>1803.60</td>\n",
       "    </tr>\n",
       "  </tbody>\n",
       "</table>\n",
       "</div>"
      ],
      "text/plain": [
       "   laptop_ID Company      Product   TypeName  Inches  \\\n",
       "0          1   Apple  MacBook Pro  Ultrabook    13.3   \n",
       "1          2   Apple  Macbook Air  Ultrabook    13.3   \n",
       "2          3      HP       250 G6   Notebook    15.6   \n",
       "3          4   Apple  MacBook Pro  Ultrabook    15.4   \n",
       "4          5   Apple  MacBook Pro  Ultrabook    13.3   \n",
       "\n",
       "                     ScreenResolution                         Cpu   Ram  \\\n",
       "0  IPS Panel Retina Display 2560x1600        Intel Core i5 2.3GHz   8GB   \n",
       "1                            1440x900        Intel Core i5 1.8GHz   8GB   \n",
       "2                   Full HD 1920x1080  Intel Core i5 7200U 2.5GHz   8GB   \n",
       "3  IPS Panel Retina Display 2880x1800        Intel Core i7 2.7GHz  16GB   \n",
       "4  IPS Panel Retina Display 2560x1600        Intel Core i5 3.1GHz   8GB   \n",
       "\n",
       "                Memory                           Gpu  OpSys  Weight  \\\n",
       "0            128GB SSD  Intel Iris Plus Graphics 640  macOS  1.37kg   \n",
       "1  128GB Flash Storage        Intel HD Graphics 6000  macOS  1.34kg   \n",
       "2            256GB SSD         Intel HD Graphics 620  No OS  1.86kg   \n",
       "3            512GB SSD            AMD Radeon Pro 455  macOS  1.83kg   \n",
       "4            256GB SSD  Intel Iris Plus Graphics 650  macOS  1.37kg   \n",
       "\n",
       "   Price_euros  \n",
       "0      1339.69  \n",
       "1       898.94  \n",
       "2       575.00  \n",
       "3      2537.45  \n",
       "4      1803.60  "
      ]
     },
     "execution_count": 303,
     "metadata": {},
     "output_type": "execute_result"
    }
   ],
   "source": [
    "file_name = 'laptop_price.csv'\n",
    "df = pd.read_csv(file_name, encoding ='ISO-8859-1')\n",
    "df.head()"
   ]
  },
  {
   "cell_type": "markdown",
   "id": "7c5b8848",
   "metadata": {},
   "source": [
    "#### 데이터의 dtype을 확인"
   ]
  },
  {
   "cell_type": "code",
   "execution_count": 304,
   "id": "c236b7a4",
   "metadata": {},
   "outputs": [
    {
     "name": "stdout",
     "output_type": "stream",
     "text": [
      "<class 'pandas.core.frame.DataFrame'>\n",
      "RangeIndex: 1303 entries, 0 to 1302\n",
      "Data columns (total 13 columns):\n",
      " #   Column            Non-Null Count  Dtype  \n",
      "---  ------            --------------  -----  \n",
      " 0   laptop_ID         1303 non-null   int64  \n",
      " 1   Company           1303 non-null   object \n",
      " 2   Product           1303 non-null   object \n",
      " 3   TypeName          1303 non-null   object \n",
      " 4   Inches            1303 non-null   float64\n",
      " 5   ScreenResolution  1303 non-null   object \n",
      " 6   Cpu               1303 non-null   object \n",
      " 7   Ram               1303 non-null   object \n",
      " 8   Memory            1303 non-null   object \n",
      " 9   Gpu               1303 non-null   object \n",
      " 10  OpSys             1303 non-null   object \n",
      " 11  Weight            1303 non-null   object \n",
      " 12  Price_euros       1303 non-null   float64\n",
      "dtypes: float64(2), int64(1), object(10)\n",
      "memory usage: 132.5+ KB\n"
     ]
    }
   ],
   "source": [
    "df.info()"
   ]
  },
  {
   "cell_type": "markdown",
   "id": "c610128b",
   "metadata": {},
   "source": [
    "#### 데이터의 shape확인"
   ]
  },
  {
   "cell_type": "code",
   "execution_count": 305,
   "id": "c27a1ff1",
   "metadata": {},
   "outputs": [
    {
     "data": {
      "text/plain": [
       "(1303, 13)"
      ]
     },
     "execution_count": 305,
     "metadata": {},
     "output_type": "execute_result"
    }
   ],
   "source": [
    "df.shape"
   ]
  },
  {
   "cell_type": "markdown",
   "id": "60b3f935",
   "metadata": {},
   "source": [
    "#### 데이터의 null값 확인"
   ]
  },
  {
   "cell_type": "code",
   "execution_count": 306,
   "id": "d5eea23a",
   "metadata": {},
   "outputs": [
    {
     "data": {
      "text/plain": [
       "0               IPS Panel Retina Display 2560x1600\n",
       "1                                         1440x900\n",
       "2                                Full HD 1920x1080\n",
       "3               IPS Panel Retina Display 2880x1800\n",
       "4               IPS Panel Retina Display 2560x1600\n",
       "                           ...                    \n",
       "1298     IPS Panel Full HD / Touchscreen 1920x1080\n",
       "1299    IPS Panel Quad HD+ / Touchscreen 3200x1800\n",
       "1300                                      1366x768\n",
       "1301                                      1366x768\n",
       "1302                                      1366x768\n",
       "Name: ScreenResolution, Length: 1303, dtype: object"
      ]
     },
     "execution_count": 306,
     "metadata": {},
     "output_type": "execute_result"
    }
   ],
   "source": [
    "df['ScreenResolution']"
   ]
  },
  {
   "cell_type": "code",
   "execution_count": 307,
   "id": "481daf8d",
   "metadata": {},
   "outputs": [
    {
     "data": {
      "text/html": [
       "<div>\n",
       "<style scoped>\n",
       "    .dataframe tbody tr th:only-of-type {\n",
       "        vertical-align: middle;\n",
       "    }\n",
       "\n",
       "    .dataframe tbody tr th {\n",
       "        vertical-align: top;\n",
       "    }\n",
       "\n",
       "    .dataframe thead th {\n",
       "        text-align: right;\n",
       "    }\n",
       "</style>\n",
       "<table border=\"1\" class=\"dataframe\">\n",
       "  <thead>\n",
       "    <tr style=\"text-align: right;\">\n",
       "      <th></th>\n",
       "      <th>laptop_ID</th>\n",
       "      <th>Inches</th>\n",
       "      <th>Price_euros</th>\n",
       "    </tr>\n",
       "  </thead>\n",
       "  <tbody>\n",
       "    <tr>\n",
       "      <th>count</th>\n",
       "      <td>1303.000000</td>\n",
       "      <td>1303.000000</td>\n",
       "      <td>1303.000000</td>\n",
       "    </tr>\n",
       "    <tr>\n",
       "      <th>mean</th>\n",
       "      <td>660.155794</td>\n",
       "      <td>15.017191</td>\n",
       "      <td>1123.686992</td>\n",
       "    </tr>\n",
       "    <tr>\n",
       "      <th>std</th>\n",
       "      <td>381.172104</td>\n",
       "      <td>1.426304</td>\n",
       "      <td>699.009043</td>\n",
       "    </tr>\n",
       "    <tr>\n",
       "      <th>min</th>\n",
       "      <td>1.000000</td>\n",
       "      <td>10.100000</td>\n",
       "      <td>174.000000</td>\n",
       "    </tr>\n",
       "    <tr>\n",
       "      <th>25%</th>\n",
       "      <td>331.500000</td>\n",
       "      <td>14.000000</td>\n",
       "      <td>599.000000</td>\n",
       "    </tr>\n",
       "    <tr>\n",
       "      <th>50%</th>\n",
       "      <td>659.000000</td>\n",
       "      <td>15.600000</td>\n",
       "      <td>977.000000</td>\n",
       "    </tr>\n",
       "    <tr>\n",
       "      <th>75%</th>\n",
       "      <td>990.500000</td>\n",
       "      <td>15.600000</td>\n",
       "      <td>1487.880000</td>\n",
       "    </tr>\n",
       "    <tr>\n",
       "      <th>max</th>\n",
       "      <td>1320.000000</td>\n",
       "      <td>18.400000</td>\n",
       "      <td>6099.000000</td>\n",
       "    </tr>\n",
       "  </tbody>\n",
       "</table>\n",
       "</div>"
      ],
      "text/plain": [
       "         laptop_ID       Inches  Price_euros\n",
       "count  1303.000000  1303.000000  1303.000000\n",
       "mean    660.155794    15.017191  1123.686992\n",
       "std     381.172104     1.426304   699.009043\n",
       "min       1.000000    10.100000   174.000000\n",
       "25%     331.500000    14.000000   599.000000\n",
       "50%     659.000000    15.600000   977.000000\n",
       "75%     990.500000    15.600000  1487.880000\n",
       "max    1320.000000    18.400000  6099.000000"
      ]
     },
     "execution_count": 307,
     "metadata": {},
     "output_type": "execute_result"
    }
   ],
   "source": [
    "df.describe()"
   ]
  },
  {
   "cell_type": "markdown",
   "id": "11c78279",
   "metadata": {},
   "source": [
    "#### columns를 사용하기 편하게 하기위해서 소문자로 표현"
   ]
  },
  {
   "cell_type": "code",
   "execution_count": 308,
   "id": "1c791255",
   "metadata": {},
   "outputs": [
    {
     "data": {
      "text/html": [
       "<div>\n",
       "<style scoped>\n",
       "    .dataframe tbody tr th:only-of-type {\n",
       "        vertical-align: middle;\n",
       "    }\n",
       "\n",
       "    .dataframe tbody tr th {\n",
       "        vertical-align: top;\n",
       "    }\n",
       "\n",
       "    .dataframe thead th {\n",
       "        text-align: right;\n",
       "    }\n",
       "</style>\n",
       "<table border=\"1\" class=\"dataframe\">\n",
       "  <thead>\n",
       "    <tr style=\"text-align: right;\">\n",
       "      <th></th>\n",
       "      <th>laptop_id</th>\n",
       "      <th>company</th>\n",
       "      <th>product</th>\n",
       "      <th>typename</th>\n",
       "      <th>inches</th>\n",
       "      <th>screenresolution</th>\n",
       "      <th>cpu</th>\n",
       "      <th>ram</th>\n",
       "      <th>memory</th>\n",
       "      <th>gpu</th>\n",
       "      <th>opsys</th>\n",
       "      <th>weight</th>\n",
       "      <th>price_euros</th>\n",
       "    </tr>\n",
       "  </thead>\n",
       "  <tbody>\n",
       "    <tr>\n",
       "      <th>0</th>\n",
       "      <td>1</td>\n",
       "      <td>Apple</td>\n",
       "      <td>MacBook Pro</td>\n",
       "      <td>Ultrabook</td>\n",
       "      <td>13.3</td>\n",
       "      <td>IPS Panel Retina Display 2560x1600</td>\n",
       "      <td>Intel Core i5 2.3GHz</td>\n",
       "      <td>8GB</td>\n",
       "      <td>128GB SSD</td>\n",
       "      <td>Intel Iris Plus Graphics 640</td>\n",
       "      <td>macOS</td>\n",
       "      <td>1.37kg</td>\n",
       "      <td>1339.69</td>\n",
       "    </tr>\n",
       "    <tr>\n",
       "      <th>1</th>\n",
       "      <td>2</td>\n",
       "      <td>Apple</td>\n",
       "      <td>Macbook Air</td>\n",
       "      <td>Ultrabook</td>\n",
       "      <td>13.3</td>\n",
       "      <td>1440x900</td>\n",
       "      <td>Intel Core i5 1.8GHz</td>\n",
       "      <td>8GB</td>\n",
       "      <td>128GB Flash Storage</td>\n",
       "      <td>Intel HD Graphics 6000</td>\n",
       "      <td>macOS</td>\n",
       "      <td>1.34kg</td>\n",
       "      <td>898.94</td>\n",
       "    </tr>\n",
       "    <tr>\n",
       "      <th>2</th>\n",
       "      <td>3</td>\n",
       "      <td>HP</td>\n",
       "      <td>250 G6</td>\n",
       "      <td>Notebook</td>\n",
       "      <td>15.6</td>\n",
       "      <td>Full HD 1920x1080</td>\n",
       "      <td>Intel Core i5 7200U 2.5GHz</td>\n",
       "      <td>8GB</td>\n",
       "      <td>256GB SSD</td>\n",
       "      <td>Intel HD Graphics 620</td>\n",
       "      <td>No OS</td>\n",
       "      <td>1.86kg</td>\n",
       "      <td>575.00</td>\n",
       "    </tr>\n",
       "    <tr>\n",
       "      <th>3</th>\n",
       "      <td>4</td>\n",
       "      <td>Apple</td>\n",
       "      <td>MacBook Pro</td>\n",
       "      <td>Ultrabook</td>\n",
       "      <td>15.4</td>\n",
       "      <td>IPS Panel Retina Display 2880x1800</td>\n",
       "      <td>Intel Core i7 2.7GHz</td>\n",
       "      <td>16GB</td>\n",
       "      <td>512GB SSD</td>\n",
       "      <td>AMD Radeon Pro 455</td>\n",
       "      <td>macOS</td>\n",
       "      <td>1.83kg</td>\n",
       "      <td>2537.45</td>\n",
       "    </tr>\n",
       "    <tr>\n",
       "      <th>4</th>\n",
       "      <td>5</td>\n",
       "      <td>Apple</td>\n",
       "      <td>MacBook Pro</td>\n",
       "      <td>Ultrabook</td>\n",
       "      <td>13.3</td>\n",
       "      <td>IPS Panel Retina Display 2560x1600</td>\n",
       "      <td>Intel Core i5 3.1GHz</td>\n",
       "      <td>8GB</td>\n",
       "      <td>256GB SSD</td>\n",
       "      <td>Intel Iris Plus Graphics 650</td>\n",
       "      <td>macOS</td>\n",
       "      <td>1.37kg</td>\n",
       "      <td>1803.60</td>\n",
       "    </tr>\n",
       "  </tbody>\n",
       "</table>\n",
       "</div>"
      ],
      "text/plain": [
       "   laptop_id company      product   typename  inches  \\\n",
       "0          1   Apple  MacBook Pro  Ultrabook    13.3   \n",
       "1          2   Apple  Macbook Air  Ultrabook    13.3   \n",
       "2          3      HP       250 G6   Notebook    15.6   \n",
       "3          4   Apple  MacBook Pro  Ultrabook    15.4   \n",
       "4          5   Apple  MacBook Pro  Ultrabook    13.3   \n",
       "\n",
       "                     screenresolution                         cpu   ram  \\\n",
       "0  IPS Panel Retina Display 2560x1600        Intel Core i5 2.3GHz   8GB   \n",
       "1                            1440x900        Intel Core i5 1.8GHz   8GB   \n",
       "2                   Full HD 1920x1080  Intel Core i5 7200U 2.5GHz   8GB   \n",
       "3  IPS Panel Retina Display 2880x1800        Intel Core i7 2.7GHz  16GB   \n",
       "4  IPS Panel Retina Display 2560x1600        Intel Core i5 3.1GHz   8GB   \n",
       "\n",
       "                memory                           gpu  opsys  weight  \\\n",
       "0            128GB SSD  Intel Iris Plus Graphics 640  macOS  1.37kg   \n",
       "1  128GB Flash Storage        Intel HD Graphics 6000  macOS  1.34kg   \n",
       "2            256GB SSD         Intel HD Graphics 620  No OS  1.86kg   \n",
       "3            512GB SSD            AMD Radeon Pro 455  macOS  1.83kg   \n",
       "4            256GB SSD  Intel Iris Plus Graphics 650  macOS  1.37kg   \n",
       "\n",
       "   price_euros  \n",
       "0      1339.69  \n",
       "1       898.94  \n",
       "2       575.00  \n",
       "3      2537.45  \n",
       "4      1803.60  "
      ]
     },
     "execution_count": 308,
     "metadata": {},
     "output_type": "execute_result"
    }
   ],
   "source": [
    "df = df.rename(columns = str.lower)\n",
    "df.head()"
   ]
  },
  {
   "cell_type": "markdown",
   "id": "f70bf172",
   "metadata": {},
   "source": [
    "## Data Cleaning\n",
    "\n",
    "- laptop_id와 index가 맞지 않기 때문에 laptop_id가 도중에 잘못 기입됐을꺼라고 예측\n",
    "- 처음으로 laptop_id와 틀린 곳을 찾고 다시 고쳐 쓰기"
   ]
  },
  {
   "cell_type": "code",
   "execution_count": 309,
   "id": "9da8fd4b",
   "metadata": {},
   "outputs": [
    {
     "data": {
      "text/plain": [
       "0          1\n",
       "1          2\n",
       "2          3\n",
       "3          4\n",
       "4          5\n",
       "        ... \n",
       "1298    1316\n",
       "1299    1317\n",
       "1300    1318\n",
       "1301    1319\n",
       "1302    1320\n",
       "Name: laptop_id, Length: 1303, dtype: int64"
      ]
     },
     "execution_count": 309,
     "metadata": {},
     "output_type": "execute_result"
    }
   ],
   "source": [
    "df['laptop_id']"
   ]
  },
  {
   "cell_type": "code",
   "execution_count": 310,
   "id": "e0bc9596",
   "metadata": {},
   "outputs": [
    {
     "name": "stdout",
     "output_type": "stream",
     "text": [
      "66\n"
     ]
    }
   ],
   "source": [
    "index = 0\n",
    "for i in df['laptop_id']:\n",
    "    if index+1 != i:\n",
    "        print(i)\n",
    "        break\n",
    "    index += 1"
   ]
  },
  {
   "cell_type": "code",
   "execution_count": 311,
   "id": "364f3f9a",
   "metadata": {},
   "outputs": [
    {
     "data": {
      "text/html": [
       "<div>\n",
       "<style scoped>\n",
       "    .dataframe tbody tr th:only-of-type {\n",
       "        vertical-align: middle;\n",
       "    }\n",
       "\n",
       "    .dataframe tbody tr th {\n",
       "        vertical-align: top;\n",
       "    }\n",
       "\n",
       "    .dataframe thead th {\n",
       "        text-align: right;\n",
       "    }\n",
       "</style>\n",
       "<table border=\"1\" class=\"dataframe\">\n",
       "  <thead>\n",
       "    <tr style=\"text-align: right;\">\n",
       "      <th></th>\n",
       "      <th>laptop_id</th>\n",
       "      <th>company</th>\n",
       "      <th>product</th>\n",
       "      <th>typename</th>\n",
       "      <th>inches</th>\n",
       "      <th>screenresolution</th>\n",
       "      <th>cpu</th>\n",
       "      <th>ram</th>\n",
       "      <th>memory</th>\n",
       "      <th>gpu</th>\n",
       "      <th>opsys</th>\n",
       "      <th>weight</th>\n",
       "      <th>price_euros</th>\n",
       "    </tr>\n",
       "  </thead>\n",
       "  <tbody>\n",
       "    <tr>\n",
       "      <th>64</th>\n",
       "      <td>66</td>\n",
       "      <td>HP</td>\n",
       "      <td>250 G6</td>\n",
       "      <td>Notebook</td>\n",
       "      <td>15.6</td>\n",
       "      <td>Full HD 1920x1080</td>\n",
       "      <td>Intel Core i5 7200U 2.5GHz</td>\n",
       "      <td>8GB</td>\n",
       "      <td>256GB SSD</td>\n",
       "      <td>Intel HD Graphics 620</td>\n",
       "      <td>Windows 10</td>\n",
       "      <td>1.86kg</td>\n",
       "      <td>690.0</td>\n",
       "    </tr>\n",
       "  </tbody>\n",
       "</table>\n",
       "</div>"
      ],
      "text/plain": [
       "    laptop_id company product  typename  inches   screenresolution  \\\n",
       "64         66      HP  250 G6  Notebook    15.6  Full HD 1920x1080   \n",
       "\n",
       "                           cpu  ram     memory                    gpu  \\\n",
       "64  Intel Core i5 7200U 2.5GHz  8GB  256GB SSD  Intel HD Graphics 620   \n",
       "\n",
       "         opsys  weight  price_euros  \n",
       "64  Windows 10  1.86kg        690.0  "
      ]
     },
     "execution_count": 311,
     "metadata": {},
     "output_type": "execute_result"
    }
   ],
   "source": [
    "filter1 = df['laptop_id'] == 66\n",
    "df[filter1]"
   ]
  },
  {
   "cell_type": "markdown",
   "id": "7efd6ff2",
   "metadata": {},
   "source": [
    "### 잘못쓰여진 곳을 찾긴 했지만 다시 쓰는 것보단 중요한 데이터가 아니라고 판단 (drop)"
   ]
  },
  {
   "cell_type": "code",
   "execution_count": 312,
   "id": "43169920",
   "metadata": {},
   "outputs": [],
   "source": [
    "df = df.drop(['laptop_id'], axis = 1)"
   ]
  },
  {
   "cell_type": "markdown",
   "id": "9b38b6ed",
   "metadata": {},
   "source": [
    "### screenresolution을 살리기 위해 데이터 정제\n",
    "- touch panel인지 정제\n",
    "- screen size만 때어내서 정제\n",
    "- panel의 종류 정제"
   ]
  },
  {
   "cell_type": "code",
   "execution_count": 313,
   "id": "b7a29a19",
   "metadata": {},
   "outputs": [],
   "source": [
    "def check_screensize(df):\n",
    "    return df.split()[-1]\n",
    "\n",
    "def check_touchscreen(df):\n",
    "    if 'Touch' in df:\n",
    "        return 'YES'\n",
    "    else:\n",
    "        return 'NO'\n",
    "    \n",
    "def check_solution(df):\n",
    "    if '/' in df:\n",
    "        return df.split('/')[0]\n",
    "    else:\n",
    "        return \" \".join(df.split(' ')[:-1])"
   ]
  },
  {
   "cell_type": "code",
   "execution_count": 314,
   "id": "7dea1d8b",
   "metadata": {},
   "outputs": [],
   "source": [
    "df['screensize'] = df['screenresolution'].apply(check_screensize)\n",
    "df['touchscreen'] = df['screenresolution'].apply(check_touchscreen)\n",
    "df['screentype'] = df['screenresolution'].apply(check_solution)"
   ]
  },
  {
   "cell_type": "code",
   "execution_count": 315,
   "id": "d9af278a",
   "metadata": {},
   "outputs": [],
   "source": [
    "#df['solution'] = df['solution'].replace(' ', 'unknown')"
   ]
  },
  {
   "cell_type": "markdown",
   "id": "fe780bd1",
   "metadata": {},
   "source": [
    "### 원래의 screenresolution 제거"
   ]
  },
  {
   "cell_type": "code",
   "execution_count": 316,
   "id": "6aa0ff9a",
   "metadata": {},
   "outputs": [],
   "source": [
    "df = df.drop(['screenresolution'], axis = 1)"
   ]
  },
  {
   "cell_type": "markdown",
   "id": "b97ce11f",
   "metadata": {},
   "source": [
    "### 정제한 값이 맞는지 확인하기"
   ]
  },
  {
   "cell_type": "code",
   "execution_count": 317,
   "id": "e73958b8",
   "metadata": {},
   "outputs": [
    {
     "data": {
      "text/plain": [
       "screentype\n",
       "Full HD                     507\n",
       "                            314\n",
       "IPS Panel Full HD           235\n",
       "IPS Panel Full HD            53\n",
       "Full HD                      47\n",
       "Touchscreen                  32\n",
       "IPS Panel Retina Display     17\n",
       "Quad HD+                     15\n",
       "IPS Panel Touchscreen        13\n",
       "IPS Panel 4K Ultra HD        12\n",
       "IPS Panel                    11\n",
       "IPS Panel 4K Ultra HD        11\n",
       "4K Ultra HD                  10\n",
       "4K Ultra HD                   7\n",
       "IPS Panel Quad HD+            6\n",
       "IPS Panel Quad HD+            5\n",
       "Touchscreen                   3\n",
       "Quad HD+                      3\n",
       "IPS Panel Touchscreen         2\n",
       "Name: count, dtype: int64"
      ]
     },
     "execution_count": 317,
     "metadata": {},
     "output_type": "execute_result"
    }
   ],
   "source": [
    "df['screentype'].value_counts()"
   ]
  },
  {
   "cell_type": "code",
   "execution_count": 318,
   "id": "36d64a1f",
   "metadata": {},
   "outputs": [
    {
     "data": {
      "text/plain": [
       "touchscreen\n",
       "NO     1111\n",
       "YES     192\n",
       "Name: count, dtype: int64"
      ]
     },
     "execution_count": 318,
     "metadata": {},
     "output_type": "execute_result"
    }
   ],
   "source": [
    "df['touchscreen'].value_counts()"
   ]
  },
  {
   "cell_type": "code",
   "execution_count": 319,
   "id": "3b764326",
   "metadata": {},
   "outputs": [
    {
     "data": {
      "text/plain": [
       "screensize\n",
       "1920x1080    841\n",
       "1366x768     308\n",
       "3840x2160     43\n",
       "3200x1800     27\n",
       "2560x1440     23\n",
       "1600x900      23\n",
       "2560x1600      6\n",
       "2304x1440      6\n",
       "2256x1504      6\n",
       "1920x1200      5\n",
       "1440x900       4\n",
       "2880x1800      4\n",
       "2400x1600      4\n",
       "2160x1440      2\n",
       "2736x1824      1\n",
       "Name: count, dtype: int64"
      ]
     },
     "execution_count": 319,
     "metadata": {},
     "output_type": "execute_result"
    }
   ],
   "source": [
    "df['screensize'].value_counts()"
   ]
  },
  {
   "cell_type": "markdown",
   "id": "26e53f33",
   "metadata": {},
   "source": [
    "#### screentype부분 정제가 조금 더 필요하다.\n",
    "- IPS Panel의 종류대로 정제\n",
    "- 개수가 적은 값이나 오류값은 np.nan으로 정제\n",
    "> 거의 다 IPS Panel이긴 하다.\n",
    ">\n",
    "> ***drop할 수도 있지만 그래도 노트북 가격 예측에 필요할 수도 있기 때문에 정제 필요***"
   ]
  },
  {
   "cell_type": "code",
   "execution_count": 320,
   "id": "6dd0517f",
   "metadata": {},
   "outputs": [],
   "source": [
    "def cleaning_type(df):\n",
    "    if 'IPS Panel Full HD' in df:\n",
    "        return 'IPS Panel Full HD'\n",
    "    elif 'Full HD' in df:\n",
    "        return 'Full HD'\n",
    "    elif 'IPS Panel 4K Ultra HD':\n",
    "        return 'IPS Panel 4K Ultra HD'\n",
    "    elif '4K Ultra HD' in df:\n",
    "        return 'IPS Panel 4K Ultra HD'\n",
    "    else:\n",
    "        return np.nan"
   ]
  },
  {
   "cell_type": "code",
   "execution_count": 321,
   "id": "f152689e",
   "metadata": {},
   "outputs": [],
   "source": [
    "df['screentype'] = df['screentype'].apply(cleaning_type)"
   ]
  },
  {
   "cell_type": "code",
   "execution_count": 322,
   "id": "6fec8f38",
   "metadata": {},
   "outputs": [
    {
     "data": {
      "text/plain": [
       "screentype\n",
       "Full HD                  554\n",
       "IPS Panel 4K Ultra HD    461\n",
       "IPS Panel Full HD        288\n",
       "Name: count, dtype: int64"
      ]
     },
     "execution_count": 322,
     "metadata": {},
     "output_type": "execute_result"
    }
   ],
   "source": [
    "df['screentype'].value_counts()"
   ]
  },
  {
   "cell_type": "markdown",
   "id": "301d55b0",
   "metadata": {},
   "source": [
    "##### cleaning Good"
   ]
  },
  {
   "cell_type": "markdown",
   "id": "00a96345",
   "metadata": {},
   "source": [
    "## CPU 또한 screen처럼 정제"
   ]
  },
  {
   "cell_type": "code",
   "execution_count": 323,
   "id": "18379bee",
   "metadata": {},
   "outputs": [
    {
     "data": {
      "text/plain": [
       "0                       Intel Core i5 2.3GHz\n",
       "1                       Intel Core i5 1.8GHz\n",
       "2                 Intel Core i5 7200U 2.5GHz\n",
       "3                       Intel Core i7 2.7GHz\n",
       "4                       Intel Core i5 3.1GHz\n",
       "                        ...                 \n",
       "1298              Intel Core i7 6500U 2.5GHz\n",
       "1299              Intel Core i7 6500U 2.5GHz\n",
       "1300    Intel Celeron Dual Core N3050 1.6GHz\n",
       "1301              Intel Core i7 6500U 2.5GHz\n",
       "1302    Intel Celeron Dual Core N3050 1.6GHz\n",
       "Name: cpu, Length: 1303, dtype: object"
      ]
     },
     "execution_count": 323,
     "metadata": {},
     "output_type": "execute_result"
    }
   ],
   "source": [
    "df['cpu']"
   ]
  },
  {
   "cell_type": "code",
   "execution_count": 324,
   "id": "15549a2a",
   "metadata": {},
   "outputs": [],
   "source": [
    "def check_Hz(df):\n",
    "    return df.split()[-1][:3]\n",
    "\n",
    "def check_cputype(df):\n",
    "    return df.split()[0]"
   ]
  },
  {
   "cell_type": "code",
   "execution_count": 325,
   "id": "5a6b3526",
   "metadata": {},
   "outputs": [],
   "source": [
    "df['cpu(GHz)'] = df['cpu'].apply(check_Hz)\n",
    "df['cputype'] = df['cpu'].apply(check_cputype)"
   ]
  },
  {
   "cell_type": "code",
   "execution_count": 326,
   "id": "c310c5b4",
   "metadata": {},
   "outputs": [
    {
     "data": {
      "text/plain": [
       "cpu(GHz)\n",
       "2.5    293\n",
       "2.7    166\n",
       "2.8    165\n",
       "1.6    134\n",
       "2.3     86\n",
       "1.8     78\n",
       "2.6     76\n",
       "2GH     67\n",
       "1.1     53\n",
       "2.4     52\n",
       "2.9     21\n",
       "3GH     19\n",
       "2.0     19\n",
       "1.2     15\n",
       "1.4     12\n",
       "2.2     11\n",
       "1.5     10\n",
       "1.3      6\n",
       "3.6      5\n",
       "0.9      4\n",
       "1.9      3\n",
       "3.1      3\n",
       "2.1      3\n",
       "3.2      1\n",
       "1.0      1\n",
       "Name: count, dtype: int64"
      ]
     },
     "execution_count": 326,
     "metadata": {},
     "output_type": "execute_result"
    }
   ],
   "source": [
    "df['cpu(GHz)'].value_counts()"
   ]
  },
  {
   "cell_type": "markdown",
   "id": "e3e34b9e",
   "metadata": {},
   "source": [
    "#### 2GH, 3GH 정제 필요\n",
    "#### samsung cpu 1개 이므로 drop"
   ]
  },
  {
   "cell_type": "code",
   "execution_count": 327,
   "id": "73e34148",
   "metadata": {},
   "outputs": [
    {
     "data": {
      "text/plain": [
       "cputype\n",
       "Intel      1240\n",
       "AMD          62\n",
       "Samsung       1\n",
       "Name: count, dtype: int64"
      ]
     },
     "execution_count": 327,
     "metadata": {},
     "output_type": "execute_result"
    }
   ],
   "source": [
    "df['cputype'].value_counts()"
   ]
  },
  {
   "cell_type": "code",
   "execution_count": 328,
   "id": "ef5f58ba",
   "metadata": {},
   "outputs": [
    {
     "data": {
      "text/plain": [
       "1191    Samsung\n",
       "Name: cputype, dtype: object"
      ]
     },
     "execution_count": 328,
     "metadata": {},
     "output_type": "execute_result"
    }
   ],
   "source": [
    "filter1 = df['cputype'] == 'Samsung'\n",
    "df['cputype'][filter1]"
   ]
  },
  {
   "cell_type": "code",
   "execution_count": 329,
   "id": "cd09eb99",
   "metadata": {},
   "outputs": [],
   "source": [
    "df = df.drop([1191], axis = 0)"
   ]
  },
  {
   "cell_type": "code",
   "execution_count": 330,
   "id": "a0d264e6",
   "metadata": {},
   "outputs": [
    {
     "data": {
      "text/plain": [
       "cputype\n",
       "Intel    1240\n",
       "AMD        62\n",
       "Name: count, dtype: int64"
      ]
     },
     "execution_count": 330,
     "metadata": {},
     "output_type": "execute_result"
    }
   ],
   "source": [
    "df['cputype'].value_counts()"
   ]
  },
  {
   "cell_type": "code",
   "execution_count": 331,
   "id": "62019e5c",
   "metadata": {},
   "outputs": [],
   "source": [
    "def cleaning_Hz(df):\n",
    "    if '2GH' in df:\n",
    "        return 2.0\n",
    "    elif '3GH' in df:\n",
    "        return 3.0\n",
    "    else:\n",
    "        return df"
   ]
  },
  {
   "cell_type": "code",
   "execution_count": 332,
   "id": "04081bf9",
   "metadata": {},
   "outputs": [],
   "source": [
    "df['cpu(GHz)'] = df['cpu(GHz)'].apply(cleaning_Hz)"
   ]
  },
  {
   "cell_type": "code",
   "execution_count": 333,
   "id": "10f0bf6a",
   "metadata": {},
   "outputs": [
    {
     "data": {
      "text/plain": [
       "cpu(GHz)\n",
       "2.5    293\n",
       "2.7    166\n",
       "2.8    165\n",
       "1.6    134\n",
       "2.3     86\n",
       "1.8     78\n",
       "2.6     76\n",
       "2.0     67\n",
       "1.1     53\n",
       "2.4     52\n",
       "2.9     21\n",
       "3.0     19\n",
       "2.0     18\n",
       "1.2     15\n",
       "1.4     12\n",
       "2.2     11\n",
       "1.5     10\n",
       "1.3      6\n",
       "3.6      5\n",
       "0.9      4\n",
       "1.9      3\n",
       "3.1      3\n",
       "2.1      3\n",
       "3.2      1\n",
       "1.0      1\n",
       "Name: count, dtype: int64"
      ]
     },
     "execution_count": 333,
     "metadata": {},
     "output_type": "execute_result"
    }
   ],
   "source": [
    "df['cpu(GHz)'].value_counts()"
   ]
  },
  {
   "cell_type": "markdown",
   "id": "6f533bbf",
   "metadata": {},
   "source": [
    "### 원래의 cpu columns 제거"
   ]
  },
  {
   "cell_type": "code",
   "execution_count": 334,
   "id": "481a1957",
   "metadata": {},
   "outputs": [],
   "source": [
    "df = df.drop(['cpu'], axis = 1)"
   ]
  },
  {
   "cell_type": "markdown",
   "id": "7fe0c4eb",
   "metadata": {},
   "source": [
    "#### cleaning Good"
   ]
  },
  {
   "cell_type": "markdown",
   "id": "0d7c41ba",
   "metadata": {},
   "source": [
    "### weight 숫자만 따로 저장"
   ]
  },
  {
   "cell_type": "code",
   "execution_count": 335,
   "id": "da63cd3c",
   "metadata": {},
   "outputs": [
    {
     "data": {
      "text/plain": [
       "weight\n",
       "2.2kg     121\n",
       "2.1kg      58\n",
       "2.4kg      44\n",
       "2.3kg      41\n",
       "2.5kg      38\n",
       "         ... \n",
       "1.59kg      1\n",
       "4.7kg       1\n",
       "1.55kg      1\n",
       "1.18kg      1\n",
       "4.0kg       1\n",
       "Name: count, Length: 179, dtype: int64"
      ]
     },
     "execution_count": 335,
     "metadata": {},
     "output_type": "execute_result"
    }
   ],
   "source": [
    "df['weight'].value_counts()"
   ]
  },
  {
   "cell_type": "code",
   "execution_count": 336,
   "id": "3223c90a",
   "metadata": {},
   "outputs": [],
   "source": [
    "def check_weight(df):\n",
    "    return df[:-2]"
   ]
  },
  {
   "cell_type": "code",
   "execution_count": 337,
   "id": "896688bf",
   "metadata": {},
   "outputs": [],
   "source": [
    "df['weight(Kg)'] = df['weight'].apply(check_weight)"
   ]
  },
  {
   "cell_type": "code",
   "execution_count": 338,
   "id": "061b016a",
   "metadata": {},
   "outputs": [
    {
     "data": {
      "text/plain": [
       "weight(Kg)\n",
       "2.2     121\n",
       "2.1      58\n",
       "2.4      44\n",
       "2.3      41\n",
       "2.5      38\n",
       "       ... \n",
       "1.59      1\n",
       "4.7       1\n",
       "1.55      1\n",
       "1.18      1\n",
       "4.0       1\n",
       "Name: count, Length: 179, dtype: int64"
      ]
     },
     "execution_count": 338,
     "metadata": {},
     "output_type": "execute_result"
    }
   ],
   "source": [
    "df['weight(Kg)'].value_counts()"
   ]
  },
  {
   "cell_type": "code",
   "execution_count": 339,
   "id": "6c9e33b6",
   "metadata": {},
   "outputs": [],
   "source": [
    "df = df.drop(['weight'], axis=1)"
   ]
  },
  {
   "cell_type": "markdown",
   "id": "483e04f6",
   "metadata": {},
   "source": [
    "### Memory 정제\n",
    "- SSD, HDD 따로 분류?\n",
    "- 모델을 만들 때 도움이 될까?\n",
    "- GB로 SSD, HDD합쳐서 생성?\n",
    "- 합쳐서 생성하기로 결정\n",
    "- 단위는 따로 표시 ==> 회귀모델을 만들때 사용하기 위해서"
   ]
  },
  {
   "cell_type": "code",
   "execution_count": 340,
   "id": "43d9c609",
   "metadata": {},
   "outputs": [
    {
     "data": {
      "text/plain": [
       "memory\n",
       "256GB SSD                        412\n",
       "1TB HDD                          223\n",
       "500GB HDD                        132\n",
       "512GB SSD                        118\n",
       "128GB SSD +  1TB HDD              94\n",
       "128GB SSD                         76\n",
       "256GB SSD +  1TB HDD              73\n",
       "32GB Flash Storage                37\n",
       "2TB HDD                           16\n",
       "64GB Flash Storage                15\n",
       "512GB SSD +  1TB HDD              14\n",
       "1TB SSD                           14\n",
       "256GB SSD +  2TB HDD              10\n",
       "1.0TB Hybrid                       9\n",
       "256GB Flash Storage                8\n",
       "16GB Flash Storage                 7\n",
       "32GB SSD                           6\n",
       "180GB SSD                          5\n",
       "128GB Flash Storage                4\n",
       "512GB SSD +  2TB HDD               3\n",
       "16GB SSD                           3\n",
       "512GB Flash Storage                2\n",
       "1TB SSD +  1TB HDD                 2\n",
       "256GB SSD +  500GB HDD             2\n",
       "128GB SSD +  2TB HDD               2\n",
       "256GB SSD +  256GB SSD             2\n",
       "512GB SSD +  256GB SSD             1\n",
       "512GB SSD +  512GB SSD             1\n",
       "64GB Flash Storage +  1TB HDD      1\n",
       "1TB HDD +  1TB HDD                 1\n",
       "32GB HDD                           1\n",
       "64GB SSD                           1\n",
       "128GB HDD                          1\n",
       "240GB SSD                          1\n",
       "8GB SSD                            1\n",
       "508GB Hybrid                       1\n",
       "1.0TB HDD                          1\n",
       "512GB SSD +  1.0TB Hybrid          1\n",
       "256GB SSD +  1.0TB Hybrid          1\n",
       "Name: count, dtype: int64"
      ]
     },
     "execution_count": 340,
     "metadata": {},
     "output_type": "execute_result"
    }
   ],
   "source": [
    "df['memory'] = df['memory'].astype(str) \n",
    "df['memory'].value_counts()"
   ]
  },
  {
   "cell_type": "code",
   "execution_count": 341,
   "id": "192a5588",
   "metadata": {},
   "outputs": [
    {
     "data": {
      "text/plain": [
       "memory(GB)\n",
       "256 SSD                         412\n",
       "1000 HDD                        224\n",
       "500 HDD                         132\n",
       "512 SSD                         118\n",
       "128 SSD +  1000 HDD              94\n",
       "128 SSD                          76\n",
       "256 SSD +  1000 HDD              73\n",
       "32 Flash Storage                 37\n",
       "2000 HDD                         16\n",
       "64 Flash Storage                 15\n",
       "512 SSD +  1000 HDD              14\n",
       "1000 SSD                         14\n",
       "256 SSD +  2000 HDD              10\n",
       "1000 Hybrid                       9\n",
       "256 Flash Storage                 8\n",
       "16 Flash Storage                  7\n",
       "32 SSD                            6\n",
       "180 SSD                           5\n",
       "128 Flash Storage                 4\n",
       "512 SSD +  2000 HDD               3\n",
       "16 SSD                            3\n",
       "512 Flash Storage                 2\n",
       "1000 SSD +  1000 HDD              2\n",
       "256 SSD +  500 HDD                2\n",
       "128 SSD +  2000 HDD               2\n",
       "256 SSD +  256 SSD                2\n",
       "512 SSD +  256 SSD                1\n",
       "512 SSD +  512 SSD                1\n",
       "64 Flash Storage +  1000 HDD      1\n",
       "1000 HDD +  1000 HDD              1\n",
       "32 HDD                            1\n",
       "64 SSD                            1\n",
       "128 HDD                           1\n",
       "240 SSD                           1\n",
       "8 SSD                             1\n",
       "508 Hybrid                        1\n",
       "512 SSD +  1000 Hybrid            1\n",
       "256 SSD +  1000 Hybrid            1\n",
       "Name: count, dtype: int64"
      ]
     },
     "execution_count": 341,
     "metadata": {},
     "output_type": "execute_result"
    }
   ],
   "source": [
    "df['memory(GB)'] = df['memory'].str.replace('1.0TB', '1000GB', regex = True)\n",
    "df['memory(GB)'] = df['memory(GB)'].str.replace('1TB', '1000GB')\n",
    "df['memory(GB)'] = df['memory(GB)'].str.replace('2TB', '2000GB')\n",
    "df['memory(GB)'] = df['memory(GB)'].str.replace('GB', '')\n",
    "df['memory(GB)'].value_counts()"
   ]
  },
  {
   "cell_type": "code",
   "execution_count": 342,
   "id": "b21ca041",
   "metadata": {},
   "outputs": [
    {
     "data": {
      "text/plain": [
       "447    64 Flash Storage +  1000 HDD\n",
       "Name: memory(GB), dtype: object"
      ]
     },
     "execution_count": 342,
     "metadata": {},
     "output_type": "execute_result"
    }
   ],
   "source": [
    "filter2 = df['memory(GB)'] == '64 Flash Storage +  1000 HDD'\n",
    "df['memory(GB)'][filter2]"
   ]
  },
  {
   "cell_type": "code",
   "execution_count": 343,
   "id": "26982917",
   "metadata": {},
   "outputs": [],
   "source": [
    "df = df.drop([447], axis = 0)"
   ]
  },
  {
   "cell_type": "code",
   "execution_count": 344,
   "id": "9492b3b6",
   "metadata": {},
   "outputs": [],
   "source": [
    "def sum_memory(df):\n",
    "    if '+' in df:\n",
    "        b = df.split()[0::3]\n",
    "        b = list(map(int, b))\n",
    "        c = sum(b)\n",
    "        return c\n",
    "    else:\n",
    "        return df.split()[0]"
   ]
  },
  {
   "cell_type": "code",
   "execution_count": 345,
   "id": "b667fe2f",
   "metadata": {},
   "outputs": [],
   "source": [
    "df['memory(GB)'] = df['memory(GB)'].apply(sum_memory)"
   ]
  },
  {
   "cell_type": "code",
   "execution_count": 346,
   "id": "5e1fb25a",
   "metadata": {},
   "outputs": [
    {
     "data": {
      "text/plain": [
       "memory(GB)\n",
       "256     420\n",
       "1000    247\n",
       "500     132\n",
       "512     120\n",
       "1128     94\n",
       "128      81\n",
       "1256     74\n",
       "32       44\n",
       "2000     16\n",
       "64       16\n",
       "1512     15\n",
       "2256     10\n",
       "16       10\n",
       "180       5\n",
       "2512      3\n",
       "2000      3\n",
       "512       2\n",
       "756       2\n",
       "2128      2\n",
       "1024      1\n",
       "768       1\n",
       "240       1\n",
       "8         1\n",
       "508       1\n",
       "Name: count, dtype: int64"
      ]
     },
     "execution_count": 346,
     "metadata": {},
     "output_type": "execute_result"
    }
   ],
   "source": [
    "df['memory(GB)'].value_counts()"
   ]
  },
  {
   "cell_type": "code",
   "execution_count": 347,
   "id": "d5c70733",
   "metadata": {},
   "outputs": [],
   "source": [
    "df = df.drop(['memory'], axis = 1)"
   ]
  },
  {
   "cell_type": "markdown",
   "id": "1978bba4",
   "metadata": {},
   "source": [
    "### GPU type 만 정제"
   ]
  },
  {
   "cell_type": "code",
   "execution_count": 348,
   "id": "7c537f95",
   "metadata": {},
   "outputs": [],
   "source": [
    "def check_gpu(df):\n",
    "    return df.split()[0]"
   ]
  },
  {
   "cell_type": "code",
   "execution_count": 349,
   "id": "0c9e20a7",
   "metadata": {},
   "outputs": [],
   "source": [
    "df['gputype'] = df['gpu'].apply(check_gpu)"
   ]
  },
  {
   "cell_type": "code",
   "execution_count": 350,
   "id": "1f2236bc",
   "metadata": {},
   "outputs": [
    {
     "data": {
      "text/plain": [
       "gputype\n",
       "Intel     722\n",
       "Nvidia    399\n",
       "AMD       180\n",
       "Name: count, dtype: int64"
      ]
     },
     "execution_count": 350,
     "metadata": {},
     "output_type": "execute_result"
    }
   ],
   "source": [
    "df['gputype'].value_counts()"
   ]
  },
  {
   "cell_type": "code",
   "execution_count": 351,
   "id": "981be128",
   "metadata": {},
   "outputs": [],
   "source": [
    "df = df.drop(['gpu'], axis = 1)"
   ]
  },
  {
   "cell_type": "code",
   "execution_count": 352,
   "id": "e5f41b31",
   "metadata": {},
   "outputs": [
    {
     "data": {
      "text/html": [
       "<div>\n",
       "<style scoped>\n",
       "    .dataframe tbody tr th:only-of-type {\n",
       "        vertical-align: middle;\n",
       "    }\n",
       "\n",
       "    .dataframe tbody tr th {\n",
       "        vertical-align: top;\n",
       "    }\n",
       "\n",
       "    .dataframe thead th {\n",
       "        text-align: right;\n",
       "    }\n",
       "</style>\n",
       "<table border=\"1\" class=\"dataframe\">\n",
       "  <thead>\n",
       "    <tr style=\"text-align: right;\">\n",
       "      <th></th>\n",
       "      <th>company</th>\n",
       "      <th>product</th>\n",
       "      <th>typename</th>\n",
       "      <th>inches</th>\n",
       "      <th>ram</th>\n",
       "      <th>opsys</th>\n",
       "      <th>price_euros</th>\n",
       "      <th>screensize</th>\n",
       "      <th>touchscreen</th>\n",
       "      <th>screentype</th>\n",
       "      <th>cpu(GHz)</th>\n",
       "      <th>cputype</th>\n",
       "      <th>weight(Kg)</th>\n",
       "      <th>memory(GB)</th>\n",
       "      <th>gputype</th>\n",
       "    </tr>\n",
       "  </thead>\n",
       "  <tbody>\n",
       "    <tr>\n",
       "      <th>0</th>\n",
       "      <td>Apple</td>\n",
       "      <td>MacBook Pro</td>\n",
       "      <td>Ultrabook</td>\n",
       "      <td>13.3</td>\n",
       "      <td>8GB</td>\n",
       "      <td>macOS</td>\n",
       "      <td>1339.69</td>\n",
       "      <td>2560x1600</td>\n",
       "      <td>NO</td>\n",
       "      <td>IPS Panel 4K Ultra HD</td>\n",
       "      <td>2.3</td>\n",
       "      <td>Intel</td>\n",
       "      <td>1.37</td>\n",
       "      <td>128</td>\n",
       "      <td>Intel</td>\n",
       "    </tr>\n",
       "    <tr>\n",
       "      <th>1</th>\n",
       "      <td>Apple</td>\n",
       "      <td>Macbook Air</td>\n",
       "      <td>Ultrabook</td>\n",
       "      <td>13.3</td>\n",
       "      <td>8GB</td>\n",
       "      <td>macOS</td>\n",
       "      <td>898.94</td>\n",
       "      <td>1440x900</td>\n",
       "      <td>NO</td>\n",
       "      <td>IPS Panel 4K Ultra HD</td>\n",
       "      <td>1.8</td>\n",
       "      <td>Intel</td>\n",
       "      <td>1.34</td>\n",
       "      <td>128</td>\n",
       "      <td>Intel</td>\n",
       "    </tr>\n",
       "    <tr>\n",
       "      <th>2</th>\n",
       "      <td>HP</td>\n",
       "      <td>250 G6</td>\n",
       "      <td>Notebook</td>\n",
       "      <td>15.6</td>\n",
       "      <td>8GB</td>\n",
       "      <td>No OS</td>\n",
       "      <td>575.00</td>\n",
       "      <td>1920x1080</td>\n",
       "      <td>NO</td>\n",
       "      <td>Full HD</td>\n",
       "      <td>2.5</td>\n",
       "      <td>Intel</td>\n",
       "      <td>1.86</td>\n",
       "      <td>256</td>\n",
       "      <td>Intel</td>\n",
       "    </tr>\n",
       "    <tr>\n",
       "      <th>3</th>\n",
       "      <td>Apple</td>\n",
       "      <td>MacBook Pro</td>\n",
       "      <td>Ultrabook</td>\n",
       "      <td>15.4</td>\n",
       "      <td>16GB</td>\n",
       "      <td>macOS</td>\n",
       "      <td>2537.45</td>\n",
       "      <td>2880x1800</td>\n",
       "      <td>NO</td>\n",
       "      <td>IPS Panel 4K Ultra HD</td>\n",
       "      <td>2.7</td>\n",
       "      <td>Intel</td>\n",
       "      <td>1.83</td>\n",
       "      <td>512</td>\n",
       "      <td>AMD</td>\n",
       "    </tr>\n",
       "    <tr>\n",
       "      <th>4</th>\n",
       "      <td>Apple</td>\n",
       "      <td>MacBook Pro</td>\n",
       "      <td>Ultrabook</td>\n",
       "      <td>13.3</td>\n",
       "      <td>8GB</td>\n",
       "      <td>macOS</td>\n",
       "      <td>1803.60</td>\n",
       "      <td>2560x1600</td>\n",
       "      <td>NO</td>\n",
       "      <td>IPS Panel 4K Ultra HD</td>\n",
       "      <td>3.1</td>\n",
       "      <td>Intel</td>\n",
       "      <td>1.37</td>\n",
       "      <td>256</td>\n",
       "      <td>Intel</td>\n",
       "    </tr>\n",
       "  </tbody>\n",
       "</table>\n",
       "</div>"
      ],
      "text/plain": [
       "  company      product   typename  inches   ram  opsys  price_euros  \\\n",
       "0   Apple  MacBook Pro  Ultrabook    13.3   8GB  macOS      1339.69   \n",
       "1   Apple  Macbook Air  Ultrabook    13.3   8GB  macOS       898.94   \n",
       "2      HP       250 G6   Notebook    15.6   8GB  No OS       575.00   \n",
       "3   Apple  MacBook Pro  Ultrabook    15.4  16GB  macOS      2537.45   \n",
       "4   Apple  MacBook Pro  Ultrabook    13.3   8GB  macOS      1803.60   \n",
       "\n",
       "  screensize touchscreen             screentype cpu(GHz) cputype weight(Kg)  \\\n",
       "0  2560x1600          NO  IPS Panel 4K Ultra HD      2.3   Intel       1.37   \n",
       "1   1440x900          NO  IPS Panel 4K Ultra HD      1.8   Intel       1.34   \n",
       "2  1920x1080          NO                Full HD      2.5   Intel       1.86   \n",
       "3  2880x1800          NO  IPS Panel 4K Ultra HD      2.7   Intel       1.83   \n",
       "4  2560x1600          NO  IPS Panel 4K Ultra HD      3.1   Intel       1.37   \n",
       "\n",
       "  memory(GB) gputype  \n",
       "0        128   Intel  \n",
       "1        128   Intel  \n",
       "2        256   Intel  \n",
       "3        512     AMD  \n",
       "4        256   Intel  "
      ]
     },
     "execution_count": 352,
     "metadata": {},
     "output_type": "execute_result"
    }
   ],
   "source": [
    "df.head()"
   ]
  },
  {
   "cell_type": "markdown",
   "id": "7c290c0e",
   "metadata": {},
   "source": [
    "## RAM 정제"
   ]
  },
  {
   "cell_type": "code",
   "execution_count": 353,
   "id": "1af37012",
   "metadata": {},
   "outputs": [
    {
     "data": {
      "text/plain": [
       "ram\n",
       "8GB     618\n",
       "4GB     374\n",
       "16GB    200\n",
       "6GB      41\n",
       "12GB     25\n",
       "2GB      22\n",
       "32GB     17\n",
       "24GB      3\n",
       "64GB      1\n",
       "Name: count, dtype: int64"
      ]
     },
     "execution_count": 353,
     "metadata": {},
     "output_type": "execute_result"
    }
   ],
   "source": [
    "df['ram'].value_counts()"
   ]
  },
  {
   "cell_type": "code",
   "execution_count": 354,
   "id": "4738a51e",
   "metadata": {},
   "outputs": [],
   "source": [
    "df['ram(GB)'] = df['ram'].str.replace('GB', '')"
   ]
  },
  {
   "cell_type": "code",
   "execution_count": 355,
   "id": "147f3647",
   "metadata": {},
   "outputs": [
    {
     "data": {
      "text/plain": [
       "ram(GB)\n",
       "8     618\n",
       "4     374\n",
       "16    200\n",
       "6      41\n",
       "12     25\n",
       "2      22\n",
       "32     17\n",
       "24      3\n",
       "64      1\n",
       "Name: count, dtype: int64"
      ]
     },
     "execution_count": 355,
     "metadata": {},
     "output_type": "execute_result"
    }
   ],
   "source": [
    "df['ram(GB)'].value_counts()"
   ]
  },
  {
   "cell_type": "code",
   "execution_count": 356,
   "id": "f41c3a86",
   "metadata": {},
   "outputs": [],
   "source": [
    "df = df.drop(['ram'], axis = 1)"
   ]
  },
  {
   "cell_type": "markdown",
   "id": "b80ea117",
   "metadata": {},
   "source": [
    "## 마지막으로 index 맞추고 Data Cleaning 마무리"
   ]
  },
  {
   "cell_type": "code",
   "execution_count": 357,
   "id": "e9278f69",
   "metadata": {},
   "outputs": [],
   "source": [
    "df = df.reset_index()"
   ]
  },
  {
   "cell_type": "code",
   "execution_count": 358,
   "id": "2590fdd9",
   "metadata": {},
   "outputs": [],
   "source": [
    "df = df.drop(['index'], axis = 1)"
   ]
  },
  {
   "cell_type": "code",
   "execution_count": 359,
   "id": "c98ff4b3",
   "metadata": {},
   "outputs": [
    {
     "data": {
      "text/html": [
       "<div>\n",
       "<style scoped>\n",
       "    .dataframe tbody tr th:only-of-type {\n",
       "        vertical-align: middle;\n",
       "    }\n",
       "\n",
       "    .dataframe tbody tr th {\n",
       "        vertical-align: top;\n",
       "    }\n",
       "\n",
       "    .dataframe thead th {\n",
       "        text-align: right;\n",
       "    }\n",
       "</style>\n",
       "<table border=\"1\" class=\"dataframe\">\n",
       "  <thead>\n",
       "    <tr style=\"text-align: right;\">\n",
       "      <th></th>\n",
       "      <th>company</th>\n",
       "      <th>product</th>\n",
       "      <th>typename</th>\n",
       "      <th>inches</th>\n",
       "      <th>opsys</th>\n",
       "      <th>price_euros</th>\n",
       "      <th>screensize</th>\n",
       "      <th>touchscreen</th>\n",
       "      <th>screentype</th>\n",
       "      <th>cpu(GHz)</th>\n",
       "      <th>cputype</th>\n",
       "      <th>weight(Kg)</th>\n",
       "      <th>memory(GB)</th>\n",
       "      <th>gputype</th>\n",
       "      <th>ram(GB)</th>\n",
       "    </tr>\n",
       "  </thead>\n",
       "  <tbody>\n",
       "    <tr>\n",
       "      <th>0</th>\n",
       "      <td>Apple</td>\n",
       "      <td>MacBook Pro</td>\n",
       "      <td>Ultrabook</td>\n",
       "      <td>13.3</td>\n",
       "      <td>macOS</td>\n",
       "      <td>1339.69</td>\n",
       "      <td>2560x1600</td>\n",
       "      <td>NO</td>\n",
       "      <td>IPS Panel 4K Ultra HD</td>\n",
       "      <td>2.3</td>\n",
       "      <td>Intel</td>\n",
       "      <td>1.37</td>\n",
       "      <td>128</td>\n",
       "      <td>Intel</td>\n",
       "      <td>8</td>\n",
       "    </tr>\n",
       "    <tr>\n",
       "      <th>1</th>\n",
       "      <td>Apple</td>\n",
       "      <td>Macbook Air</td>\n",
       "      <td>Ultrabook</td>\n",
       "      <td>13.3</td>\n",
       "      <td>macOS</td>\n",
       "      <td>898.94</td>\n",
       "      <td>1440x900</td>\n",
       "      <td>NO</td>\n",
       "      <td>IPS Panel 4K Ultra HD</td>\n",
       "      <td>1.8</td>\n",
       "      <td>Intel</td>\n",
       "      <td>1.34</td>\n",
       "      <td>128</td>\n",
       "      <td>Intel</td>\n",
       "      <td>8</td>\n",
       "    </tr>\n",
       "    <tr>\n",
       "      <th>2</th>\n",
       "      <td>HP</td>\n",
       "      <td>250 G6</td>\n",
       "      <td>Notebook</td>\n",
       "      <td>15.6</td>\n",
       "      <td>No OS</td>\n",
       "      <td>575.00</td>\n",
       "      <td>1920x1080</td>\n",
       "      <td>NO</td>\n",
       "      <td>Full HD</td>\n",
       "      <td>2.5</td>\n",
       "      <td>Intel</td>\n",
       "      <td>1.86</td>\n",
       "      <td>256</td>\n",
       "      <td>Intel</td>\n",
       "      <td>8</td>\n",
       "    </tr>\n",
       "    <tr>\n",
       "      <th>3</th>\n",
       "      <td>Apple</td>\n",
       "      <td>MacBook Pro</td>\n",
       "      <td>Ultrabook</td>\n",
       "      <td>15.4</td>\n",
       "      <td>macOS</td>\n",
       "      <td>2537.45</td>\n",
       "      <td>2880x1800</td>\n",
       "      <td>NO</td>\n",
       "      <td>IPS Panel 4K Ultra HD</td>\n",
       "      <td>2.7</td>\n",
       "      <td>Intel</td>\n",
       "      <td>1.83</td>\n",
       "      <td>512</td>\n",
       "      <td>AMD</td>\n",
       "      <td>16</td>\n",
       "    </tr>\n",
       "    <tr>\n",
       "      <th>4</th>\n",
       "      <td>Apple</td>\n",
       "      <td>MacBook Pro</td>\n",
       "      <td>Ultrabook</td>\n",
       "      <td>13.3</td>\n",
       "      <td>macOS</td>\n",
       "      <td>1803.60</td>\n",
       "      <td>2560x1600</td>\n",
       "      <td>NO</td>\n",
       "      <td>IPS Panel 4K Ultra HD</td>\n",
       "      <td>3.1</td>\n",
       "      <td>Intel</td>\n",
       "      <td>1.37</td>\n",
       "      <td>256</td>\n",
       "      <td>Intel</td>\n",
       "      <td>8</td>\n",
       "    </tr>\n",
       "  </tbody>\n",
       "</table>\n",
       "</div>"
      ],
      "text/plain": [
       "  company      product   typename  inches  opsys  price_euros screensize  \\\n",
       "0   Apple  MacBook Pro  Ultrabook    13.3  macOS      1339.69  2560x1600   \n",
       "1   Apple  Macbook Air  Ultrabook    13.3  macOS       898.94   1440x900   \n",
       "2      HP       250 G6   Notebook    15.6  No OS       575.00  1920x1080   \n",
       "3   Apple  MacBook Pro  Ultrabook    15.4  macOS      2537.45  2880x1800   \n",
       "4   Apple  MacBook Pro  Ultrabook    13.3  macOS      1803.60  2560x1600   \n",
       "\n",
       "  touchscreen             screentype cpu(GHz) cputype weight(Kg) memory(GB)  \\\n",
       "0          NO  IPS Panel 4K Ultra HD      2.3   Intel       1.37        128   \n",
       "1          NO  IPS Panel 4K Ultra HD      1.8   Intel       1.34        128   \n",
       "2          NO                Full HD      2.5   Intel       1.86        256   \n",
       "3          NO  IPS Panel 4K Ultra HD      2.7   Intel       1.83        512   \n",
       "4          NO  IPS Panel 4K Ultra HD      3.1   Intel       1.37        256   \n",
       "\n",
       "  gputype ram(GB)  \n",
       "0   Intel       8  \n",
       "1   Intel       8  \n",
       "2   Intel       8  \n",
       "3     AMD      16  \n",
       "4   Intel       8  "
      ]
     },
     "execution_count": 359,
     "metadata": {},
     "output_type": "execute_result"
    }
   ],
   "source": [
    "df.head()"
   ]
  },
  {
   "cell_type": "code",
   "execution_count": 360,
   "id": "b55cc1f8",
   "metadata": {},
   "outputs": [],
   "source": [
    "import pickle\n",
    "\n",
    "with open('laptop.pickle', 'wb') as f:\n",
    "    pickle.dump(df, f)"
   ]
  },
  {
   "cell_type": "code",
   "execution_count": 361,
   "id": "703fbc28",
   "metadata": {},
   "outputs": [],
   "source": [
    "df.to_csv('laptop_cleaning.csv')"
   ]
  },
  {
   "cell_type": "markdown",
   "id": "364f333d",
   "metadata": {},
   "source": [
    "# Data EDA\n",
    "\n",
    "- ***ML 모델을 만들기 위해 어떤 데이터들이 price와 상관도가 있는지 확인***"
   ]
  },
  {
   "cell_type": "code",
   "execution_count": 362,
   "id": "be002f61",
   "metadata": {},
   "outputs": [
    {
     "data": {
      "text/html": [
       "<div>\n",
       "<style scoped>\n",
       "    .dataframe tbody tr th:only-of-type {\n",
       "        vertical-align: middle;\n",
       "    }\n",
       "\n",
       "    .dataframe tbody tr th {\n",
       "        vertical-align: top;\n",
       "    }\n",
       "\n",
       "    .dataframe thead th {\n",
       "        text-align: right;\n",
       "    }\n",
       "</style>\n",
       "<table border=\"1\" class=\"dataframe\">\n",
       "  <thead>\n",
       "    <tr style=\"text-align: right;\">\n",
       "      <th></th>\n",
       "      <th>Unnamed: 0</th>\n",
       "      <th>company</th>\n",
       "      <th>product</th>\n",
       "      <th>typename</th>\n",
       "      <th>inches</th>\n",
       "      <th>opsys</th>\n",
       "      <th>price_euros</th>\n",
       "      <th>screensize</th>\n",
       "      <th>touchscreen</th>\n",
       "      <th>screentype</th>\n",
       "      <th>cpu(GHz)</th>\n",
       "      <th>cputype</th>\n",
       "      <th>weight(Kg)</th>\n",
       "      <th>memory(GB)</th>\n",
       "      <th>gputype</th>\n",
       "      <th>ram(GB)</th>\n",
       "    </tr>\n",
       "  </thead>\n",
       "  <tbody>\n",
       "    <tr>\n",
       "      <th>0</th>\n",
       "      <td>0</td>\n",
       "      <td>Apple</td>\n",
       "      <td>MacBook Pro</td>\n",
       "      <td>Ultrabook</td>\n",
       "      <td>13.3</td>\n",
       "      <td>macOS</td>\n",
       "      <td>1339.69</td>\n",
       "      <td>2560x1600</td>\n",
       "      <td>NO</td>\n",
       "      <td>IPS Panel 4K Ultra HD</td>\n",
       "      <td>2.3</td>\n",
       "      <td>Intel</td>\n",
       "      <td>1.37</td>\n",
       "      <td>128</td>\n",
       "      <td>Intel</td>\n",
       "      <td>8</td>\n",
       "    </tr>\n",
       "    <tr>\n",
       "      <th>1</th>\n",
       "      <td>1</td>\n",
       "      <td>Apple</td>\n",
       "      <td>Macbook Air</td>\n",
       "      <td>Ultrabook</td>\n",
       "      <td>13.3</td>\n",
       "      <td>macOS</td>\n",
       "      <td>898.94</td>\n",
       "      <td>1440x900</td>\n",
       "      <td>NO</td>\n",
       "      <td>IPS Panel 4K Ultra HD</td>\n",
       "      <td>1.8</td>\n",
       "      <td>Intel</td>\n",
       "      <td>1.34</td>\n",
       "      <td>128</td>\n",
       "      <td>Intel</td>\n",
       "      <td>8</td>\n",
       "    </tr>\n",
       "    <tr>\n",
       "      <th>2</th>\n",
       "      <td>2</td>\n",
       "      <td>HP</td>\n",
       "      <td>250 G6</td>\n",
       "      <td>Notebook</td>\n",
       "      <td>15.6</td>\n",
       "      <td>No OS</td>\n",
       "      <td>575.00</td>\n",
       "      <td>1920x1080</td>\n",
       "      <td>NO</td>\n",
       "      <td>Full HD</td>\n",
       "      <td>2.5</td>\n",
       "      <td>Intel</td>\n",
       "      <td>1.86</td>\n",
       "      <td>256</td>\n",
       "      <td>Intel</td>\n",
       "      <td>8</td>\n",
       "    </tr>\n",
       "    <tr>\n",
       "      <th>3</th>\n",
       "      <td>3</td>\n",
       "      <td>Apple</td>\n",
       "      <td>MacBook Pro</td>\n",
       "      <td>Ultrabook</td>\n",
       "      <td>15.4</td>\n",
       "      <td>macOS</td>\n",
       "      <td>2537.45</td>\n",
       "      <td>2880x1800</td>\n",
       "      <td>NO</td>\n",
       "      <td>IPS Panel 4K Ultra HD</td>\n",
       "      <td>2.7</td>\n",
       "      <td>Intel</td>\n",
       "      <td>1.83</td>\n",
       "      <td>512</td>\n",
       "      <td>AMD</td>\n",
       "      <td>16</td>\n",
       "    </tr>\n",
       "    <tr>\n",
       "      <th>4</th>\n",
       "      <td>4</td>\n",
       "      <td>Apple</td>\n",
       "      <td>MacBook Pro</td>\n",
       "      <td>Ultrabook</td>\n",
       "      <td>13.3</td>\n",
       "      <td>macOS</td>\n",
       "      <td>1803.60</td>\n",
       "      <td>2560x1600</td>\n",
       "      <td>NO</td>\n",
       "      <td>IPS Panel 4K Ultra HD</td>\n",
       "      <td>3.1</td>\n",
       "      <td>Intel</td>\n",
       "      <td>1.37</td>\n",
       "      <td>256</td>\n",
       "      <td>Intel</td>\n",
       "      <td>8</td>\n",
       "    </tr>\n",
       "  </tbody>\n",
       "</table>\n",
       "</div>"
      ],
      "text/plain": [
       "   Unnamed: 0 company      product   typename  inches  opsys  price_euros  \\\n",
       "0           0   Apple  MacBook Pro  Ultrabook    13.3  macOS      1339.69   \n",
       "1           1   Apple  Macbook Air  Ultrabook    13.3  macOS       898.94   \n",
       "2           2      HP       250 G6   Notebook    15.6  No OS       575.00   \n",
       "3           3   Apple  MacBook Pro  Ultrabook    15.4  macOS      2537.45   \n",
       "4           4   Apple  MacBook Pro  Ultrabook    13.3  macOS      1803.60   \n",
       "\n",
       "  screensize touchscreen             screentype  cpu(GHz) cputype  weight(Kg)  \\\n",
       "0  2560x1600          NO  IPS Panel 4K Ultra HD       2.3   Intel        1.37   \n",
       "1   1440x900          NO  IPS Panel 4K Ultra HD       1.8   Intel        1.34   \n",
       "2  1920x1080          NO                Full HD       2.5   Intel        1.86   \n",
       "3  2880x1800          NO  IPS Panel 4K Ultra HD       2.7   Intel        1.83   \n",
       "4  2560x1600          NO  IPS Panel 4K Ultra HD       3.1   Intel        1.37   \n",
       "\n",
       "   memory(GB) gputype  ram(GB)  \n",
       "0         128   Intel        8  \n",
       "1         128   Intel        8  \n",
       "2         256   Intel        8  \n",
       "3         512     AMD       16  \n",
       "4         256   Intel        8  "
      ]
     },
     "execution_count": 362,
     "metadata": {},
     "output_type": "execute_result"
    }
   ],
   "source": [
    "file_cl = 'laptop_cleaning.csv'\n",
    "df_data = pd.read_csv(file_cl, encoding = 'UTF-8')\n",
    "df_data.head()"
   ]
  },
  {
   "cell_type": "code",
   "execution_count": 363,
   "id": "10675253",
   "metadata": {},
   "outputs": [],
   "source": [
    "df_data = df_data.drop(['Unnamed: 0'], axis = 1)"
   ]
  },
  {
   "cell_type": "code",
   "execution_count": 364,
   "id": "2690e561",
   "metadata": {},
   "outputs": [
    {
     "name": "stdout",
     "output_type": "stream",
     "text": [
      "<class 'pandas.core.frame.DataFrame'>\n",
      "RangeIndex: 1301 entries, 0 to 1300\n",
      "Data columns (total 15 columns):\n",
      " #   Column       Non-Null Count  Dtype  \n",
      "---  ------       --------------  -----  \n",
      " 0   company      1301 non-null   object \n",
      " 1   product      1301 non-null   object \n",
      " 2   typename     1301 non-null   object \n",
      " 3   inches       1301 non-null   float64\n",
      " 4   opsys        1301 non-null   object \n",
      " 5   price_euros  1301 non-null   float64\n",
      " 6   screensize   1301 non-null   object \n",
      " 7   touchscreen  1301 non-null   object \n",
      " 8   screentype   1301 non-null   object \n",
      " 9   cpu(GHz)     1301 non-null   float64\n",
      " 10  cputype      1301 non-null   object \n",
      " 11  weight(Kg)   1301 non-null   float64\n",
      " 12  memory(GB)   1301 non-null   int64  \n",
      " 13  gputype      1301 non-null   object \n",
      " 14  ram(GB)      1301 non-null   int64  \n",
      "dtypes: float64(4), int64(2), object(9)\n",
      "memory usage: 152.6+ KB\n"
     ]
    }
   ],
   "source": [
    "df_data.info()"
   ]
  },
  {
   "cell_type": "code",
   "execution_count": 365,
   "id": "f842157c",
   "metadata": {},
   "outputs": [
    {
     "data": {
      "text/plain": [
       "<Figure size 432x288 with 0 Axes>"
      ]
     },
     "metadata": {},
     "output_type": "display_data"
    }
   ],
   "source": [
    "sns.set_style(\"whitegrid\")\n",
    "sns.despine()\n",
    "sns.color_palette(palette='hls')\n",
    "\n",
    "# 리눅스 한글 설정\n",
    "plt.rc('font', family = 'NanumGothic')"
   ]
  },
  {
   "cell_type": "code",
   "execution_count": 366,
   "id": "6edc5aec",
   "metadata": {},
   "outputs": [
    {
     "name": "stderr",
     "output_type": "stream",
     "text": [
      "/tmp/ipykernel_3079/4014010925.py:4: UserWarning: FixedFormatter should only be used together with FixedLocator\n",
      "  axe.set_xticklabels(axe.get_xticklabels(), rotation = 45)\n"
     ]
    },
    {
     "data": {
      "text/plain": [
       "[Text(0, 0, '297'),\n",
       " Text(0, 0, '296'),\n",
       " Text(0, 0, '274'),\n",
       " Text(0, 0, '158'),\n",
       " Text(0, 0, '103'),\n",
       " Text(0, 0, '54'),\n",
       " Text(0, 0, '48'),\n",
       " Text(0, 0, '21'),\n",
       " Text(0, 0, '8'),\n",
       " Text(0, 0, '7'),\n",
       " Text(0, 0, '7'),\n",
       " Text(0, 0, '6'),\n",
       " Text(0, 0, '4'),\n",
       " Text(0, 0, '4'),\n",
       " Text(0, 0, '3'),\n",
       " Text(0, 0, '3'),\n",
       " Text(0, 0, '3'),\n",
       " Text(0, 0, '3'),\n",
       " Text(0, 0, '2')]"
      ]
     },
     "execution_count": 366,
     "metadata": {},
     "output_type": "execute_result"
    },
    {
     "data": {
      "image/png": "[encoded data removed]",
      "text/plain": [
       "<Figure size 720x360 with 1 Axes>"
      ]
     },
     "metadata": {},
     "output_type": "display_data"
    }
   ],
   "source": [
    "# sample의 회사별 갯수\n",
    "fig, axe = plt.subplots(figsize=(10,5))\n",
    "axe = sns.countplot(data = df_data, y = 'company', palette = 'hls', order = df_data['company'].value_counts().index)\n",
    "axe.set_xticklabels(axe.get_xticklabels(), rotation = 45)\n",
    "axe.set_title('노트북 브랜드별 수')\n",
    "axe.bar_label(axe.containers[0])"
   ]
  },
  {
   "cell_type": "code",
   "execution_count": 367,
   "id": "0582791e",
   "metadata": {},
   "outputs": [
    {
     "data": {
      "text/plain": [
       "[Text(0, 0, '727'),\n",
       " Text(0, 0, '205'),\n",
       " Text(0, 0, '196'),\n",
       " Text(0, 0, '120'),\n",
       " Text(0, 0, '28'),\n",
       " Text(0, 0, '25')]"
      ]
     },
     "execution_count": 367,
     "metadata": {},
     "output_type": "execute_result"
    },
    {
     "data": {
      "image/png": "[encoded data removed]",
      "text/plain": [
       "<Figure size 720x360 with 1 Axes>"
      ]
     },
     "metadata": {},
     "output_type": "display_data"
    }
   ],
   "source": [
    "fig, axe = plt.subplots(figsize = (10, 5))\n",
    "axe = sns.countplot(data = df_data, y = 'typename', palette = 'summer', order = df['typename'].value_counts().index)\n",
    "axe.set_title('노트북 타입별 수')\n",
    "axe.bar_label(axe.containers[0])"
   ]
  },
  {
   "cell_type": "code",
   "execution_count": 368,
   "id": "e0b1680f",
   "metadata": {},
   "outputs": [
    {
     "data": {
      "text/plain": [
       "[Text(0, 0, '1071'),\n",
       " Text(0, 0, '66'),\n",
       " Text(0, 0, '62'),\n",
       " Text(0, 0, '45'),\n",
       " Text(0, 0, '26'),\n",
       " Text(0, 0, '13'),\n",
       " Text(0, 0, '8'),\n",
       " Text(0, 0, '8'),\n",
       " Text(0, 0, '2')]"
      ]
     },
     "execution_count": 368,
     "metadata": {},
     "output_type": "execute_result"
    },
    {
     "data": {
      "image/png": "[encoded data removed]",
      "text/plain": [
       "<Figure size 720x360 with 1 Axes>"
      ]
     },
     "metadata": {},
     "output_type": "display_data"
    }
   ],
   "source": [
    "fig, axe = plt.subplots(figsize = (10, 5))\n",
    "axe = sns.countplot(data = df_data, y = 'opsys', palette = 'winter', order = df['opsys'].value_counts().index)\n",
    "axe.set_title('OS 별 수')\n",
    "axe.bar_label(axe.containers[0])"
   ]
  },
  {
   "cell_type": "code",
   "execution_count": 369,
   "id": "10dda5d5",
   "metadata": {},
   "outputs": [
    {
     "data": {
      "text/plain": [
       "[Text(0, 0, '664'),\n",
       " Text(0, 0, '197'),\n",
       " Text(0, 0, '164'),\n",
       " Text(0, 0, '164'),\n",
       " Text(0, 0, '39'),\n",
       " Text(0, 0, '33')]"
      ]
     },
     "execution_count": 369,
     "metadata": {},
     "output_type": "execute_result"
    },
    {
     "data": {
      "image/png": "[encoded data removed]",
      "text/plain": [
       "<Figure size 720x360 with 1 Axes>"
      ]
     },
     "metadata": {},
     "output_type": "display_data"
    }
   ],
   "source": [
    "fig, axe = plt.subplots(figsize = (10, 5))\n",
    "axe = sns.countplot(data = df_data, y = 'inches', palette = 'summer', order = df['inches'].value_counts().index[:6])\n",
    "axe.set_title('inches most TOP6 수')\n",
    "axe.bar_label(axe.containers[0])"
   ]
  },
  {
   "cell_type": "markdown",
   "id": "50b7fd3e",
   "metadata": {},
   "source": [
    "## Outlier 확인"
   ]
  },
  {
   "cell_type": "code",
   "execution_count": 370,
   "id": "fc7729cb",
   "metadata": {},
   "outputs": [
    {
     "name": "stderr",
     "output_type": "stream",
     "text": [
      "/tmp/ipykernel_3079/1219920765.py:2: UserWarning: \n",
      "\n",
      "`distplot` is a deprecated function and will be removed in seaborn v0.14.0.\n",
      "\n",
      "Please adapt your code to use either `displot` (a figure-level function with\n",
      "similar flexibility) or `histplot` (an axes-level function for histograms).\n",
      "\n",
      "For a guide to updating your code to use the new functions, please see\n",
      "https://gist.github.com/mwaskom/de44147ed2974457ad6372750bbe5751\n",
      "\n",
      "  axe = sns.distplot(df_data['price_euros'])\n"
     ]
    },
    {
     "data": {
      "text/plain": [
       "<matplotlib.legend.Legend at 0x7fc0bb679570>"
      ]
     },
     "execution_count": 370,
     "metadata": {},
     "output_type": "execute_result"
    },
    {
     "data": {
      "image/png": "[encoded data removed]",
      "text/plain": [
       "<Figure size 432x288 with 1 Axes>"
      ]
     },
     "metadata": {},
     "output_type": "display_data"
    }
   ],
   "source": [
    "# 가격의 분포(euros 단위 * 1400 == 한국)\n",
    "axe = sns.distplot(df_data['price_euros'])\n",
    "\n",
    "axe.axvline(df_data['price_euros'].median(), color='r', linewidth=2.5, label='중앙값 : '+ str(round(df_data['price_euros'].median(),1)) + '€')\n",
    "axe.axvline(df_data['price_euros'].mean(), color='g', linewidth=2.5, label='평균값 : '+ str(round(df_data['price_euros'].mean(),1)) + '€')\n",
    "\n",
    "axe.legend(loc = 'upper right')"
   ]
  },
  {
   "cell_type": "markdown",
   "id": "5101707f",
   "metadata": {},
   "source": [
    "#### inches data는 모델을 만들 때 배제\n",
    "- weight(Kg)\n",
    "- cpu(GHz)\n",
    "- memory(GB)\n",
    "- ram(GB)"
   ]
  },
  {
   "cell_type": "code",
   "execution_count": 371,
   "id": "ae0e8f69",
   "metadata": {},
   "outputs": [],
   "source": [
    " df_data['weight(Kg)'] = pd.to_numeric(df_data['weight(Kg)'], errors='coerce')"
   ]
  },
  {
   "cell_type": "code",
   "execution_count": 372,
   "id": "9c29429d",
   "metadata": {},
   "outputs": [
    {
     "name": "stderr",
     "output_type": "stream",
     "text": [
      "/tmp/ipykernel_3079/2115904933.py:5: UserWarning: \n",
      "\n",
      "`distplot` is a deprecated function and will be removed in seaborn v0.14.0.\n",
      "\n",
      "Please adapt your code to use either `displot` (a figure-level function with\n",
      "similar flexibility) or `histplot` (an axes-level function for histograms).\n",
      "\n",
      "For a guide to updating your code to use the new functions, please see\n",
      "https://gist.github.com/mwaskom/de44147ed2974457ad6372750bbe5751\n",
      "\n",
      "  sns.distplot(df_data['weight(Kg)'], ax = axes[1])\n"
     ]
    },
    {
     "data": {
      "text/plain": [
       "<matplotlib.legend.Legend at 0x7fc0bb576a10>"
      ]
     },
     "execution_count": 372,
     "metadata": {},
     "output_type": "execute_result"
    },
    {
     "data": {
      "image/png": "[encoded data removed]",
      "text/plain": [
       "<Figure size 648x360 with 2 Axes>"
      ]
     },
     "metadata": {},
     "output_type": "display_data"
    }
   ],
   "source": [
    "# weight(Kg)\n",
    "\n",
    "fig, axes = plt.subplots(2,1, figsize = (9, 5), height_ratios=[.2, .8], layout = 'constrained')\n",
    "sns.boxplot(data = df_data, x = 'weight(Kg)', ax = axes[0])\n",
    "sns.distplot(df_data['weight(Kg)'], ax = axes[1])\n",
    "axes[1].axvline(df_data['weight(Kg)'].median(), color = 'r', linewidth = 3, label = '중앙값 : ' + str(round(df_data['weight(Kg)'].median(), 2)) + 'Kg')\n",
    "axes[1].axvline(df_data['weight(Kg)'].mean(), color = 'g', linewidth = 1.8, label = '평균값 : ' + str(round(df_data['weight(Kg)'].mean(), 2)) + 'Kg')\n",
    "axes[1].legend(loc = 'upper right')"
   ]
  },
  {
   "cell_type": "code",
   "execution_count": 373,
   "id": "65710a09",
   "metadata": {},
   "outputs": [
    {
     "name": "stderr",
     "output_type": "stream",
     "text": [
      "/tmp/ipykernel_3079/3298481229.py:4: UserWarning: \n",
      "\n",
      "`distplot` is a deprecated function and will be removed in seaborn v0.14.0.\n",
      "\n",
      "Please adapt your code to use either `displot` (a figure-level function with\n",
      "similar flexibility) or `histplot` (an axes-level function for histograms).\n",
      "\n",
      "For a guide to updating your code to use the new functions, please see\n",
      "https://gist.github.com/mwaskom/de44147ed2974457ad6372750bbe5751\n",
      "\n",
      "  sns.distplot(df_data['cpu(GHz)'], ax = axes[1])\n"
     ]
    },
    {
     "data": {
      "text/plain": [
       "<matplotlib.legend.Legend at 0x7fc0bb4b9360>"
      ]
     },
     "execution_count": 373,
     "metadata": {},
     "output_type": "execute_result"
    },
    {
     "data": {
      "image/png": "[encoded data removed]",
      "text/plain": [
       "<Figure size 648x360 with 2 Axes>"
      ]
     },
     "metadata": {},
     "output_type": "display_data"
    }
   ],
   "source": [
    "# cpu(GHz)\n",
    "fig, axes = plt.subplots(2,1, figsize = (9, 5), height_ratios=[.2, .8], layout = 'constrained')\n",
    "sns.boxplot(data = df_data, x = 'cpu(GHz)', ax = axes[0])\n",
    "sns.distplot(df_data['cpu(GHz)'], ax = axes[1])\n",
    "axes[1].axvline(df_data['cpu(GHz)'].median(), color = 'r', linewidth = 2.5, label = '중앙값 : ' + str(round(df_data['cpu(GHz)'].median(), 2)) + 'Kg')\n",
    "axes[1].axvline(df_data['cpu(GHz)'].mean(), color = 'g', linewidth = 2.5, label = '평균값 : ' + str(round(df_data['cpu(GHz)'].mean(), 2)) + 'Kg')\n",
    "axes[1].legend(loc = 'upper right')"
   ]
  },
  {
   "cell_type": "code",
   "execution_count": 374,
   "id": "5ef3a09c",
   "metadata": {},
   "outputs": [
    {
     "name": "stdout",
     "output_type": "stream",
     "text": [
      "cputype\n",
      "Intel    1239\n",
      "AMD        62\n",
      "Name: count, dtype: int64\n"
     ]
    },
    {
     "data": {
      "text/plain": [
       "cputype1\n",
       "1    1239\n",
       "2      62\n",
       "Name: count, dtype: int64"
      ]
     },
     "execution_count": 374,
     "metadata": {},
     "output_type": "execute_result"
    }
   ],
   "source": [
    "print(df_data['cputype'].value_counts())\n",
    "\n",
    "enc = LabelEncoder()\n",
    "\n",
    "df_data['cputype1'] = enc.fit_transform(df_data['cputype'])\n",
    "\n",
    "df_data['cputype1'] = df_data['cputype1'].astype(np.int64)\n",
    "df_data['cputype1'] = df_data['cputype1'].replace(0, 2)\n",
    "\n",
    "df_data['cputype1'].value_counts()"
   ]
  },
  {
   "cell_type": "code",
   "execution_count": 375,
   "id": "e11ed602",
   "metadata": {},
   "outputs": [
    {
     "name": "stdout",
     "output_type": "stream",
     "text": [
      "gputype\n",
      "Intel     722\n",
      "Nvidia    399\n",
      "AMD       180\n",
      "Name: count, dtype: int64\n"
     ]
    },
    {
     "data": {
      "text/plain": [
       "gputype1\n",
       "1    722\n",
       "2    399\n",
       "0    180\n",
       "Name: count, dtype: int64"
      ]
     },
     "execution_count": 375,
     "metadata": {},
     "output_type": "execute_result"
    }
   ],
   "source": [
    "print(df_data['gputype'].value_counts())\n",
    "\n",
    "enc = LabelEncoder()\n",
    "df_data['gputype1'] = enc.fit_transform(df_data['gputype'])\n",
    "\n",
    "df_data['gputype1'] = df_data['gputype1'].astype(np.int64)\n",
    "\n",
    "df_data['gputype1'].value_counts()\n",
    "\n",
    "# intel - 1\n",
    "# Nvidia - 2\n",
    "# AMD - 0"
   ]
  },
  {
   "cell_type": "code",
   "execution_count": 376,
   "id": "674e86da",
   "metadata": {},
   "outputs": [
    {
     "name": "stderr",
     "output_type": "stream",
     "text": [
      "/tmp/ipykernel_3079/655422211.py:4: UserWarning: \n",
      "\n",
      "`distplot` is a deprecated function and will be removed in seaborn v0.14.0.\n",
      "\n",
      "Please adapt your code to use either `displot` (a figure-level function with\n",
      "similar flexibility) or `histplot` (an axes-level function for histograms).\n",
      "\n",
      "For a guide to updating your code to use the new functions, please see\n",
      "https://gist.github.com/mwaskom/de44147ed2974457ad6372750bbe5751\n",
      "\n",
      "  sns.distplot(df_data['memory(GB)'], ax = axes[1])\n"
     ]
    },
    {
     "data": {
      "text/plain": [
       "<matplotlib.legend.Legend at 0x7fc0bb3c9bd0>"
      ]
     },
     "execution_count": 376,
     "metadata": {},
     "output_type": "execute_result"
    },
    {
     "data": {
      "image/png": "[encoded data removed]",
      "text/plain": [
       "<Figure size 648x360 with 2 Axes>"
      ]
     },
     "metadata": {},
     "output_type": "display_data"
    }
   ],
   "source": [
    "# memory(GB)\n",
    "fig, axes = plt.subplots(2,1, figsize = (9, 5), height_ratios=[.2, .8], layout = 'constrained')\n",
    "sns.boxplot(data = df_data, x = 'memory(GB)', ax = axes[0])\n",
    "sns.distplot(df_data['memory(GB)'], ax = axes[1])\n",
    "axes[1].axvline(df_data['memory(GB)'].median(), color = 'r', linewidth = 2.5, label = '중앙값 : ' + str(round(df_data['memory(GB)'].median(), 2)) + 'Kg')\n",
    "axes[1].axvline(df_data['memory(GB)'].mean(), color = 'g', linewidth = 2.5, label = '평균값 : ' + str(round(df_data['memory(GB)'].mean(), 2)) + 'Kg')\n",
    "axes[1].legend(loc = 'upper right')"
   ]
  },
  {
   "cell_type": "code",
   "execution_count": 377,
   "id": "5fabc086",
   "metadata": {},
   "outputs": [
    {
     "name": "stderr",
     "output_type": "stream",
     "text": [
      "/tmp/ipykernel_3079/3063180288.py:4: UserWarning: \n",
      "\n",
      "`distplot` is a deprecated function and will be removed in seaborn v0.14.0.\n",
      "\n",
      "Please adapt your code to use either `displot` (a figure-level function with\n",
      "similar flexibility) or `histplot` (an axes-level function for histograms).\n",
      "\n",
      "For a guide to updating your code to use the new functions, please see\n",
      "https://gist.github.com/mwaskom/de44147ed2974457ad6372750bbe5751\n",
      "\n",
      "  sns.distplot(df_data['ram(GB)'], ax = axes[1])\n"
     ]
    },
    {
     "data": {
      "text/plain": [
       "<matplotlib.legend.Legend at 0x7fc0bb11dd50>"
      ]
     },
     "execution_count": 377,
     "metadata": {},
     "output_type": "execute_result"
    },
    {
     "data": {
      "image/png": "[encoded data removed]",
      "text/plain": [
       "<Figure size 648x360 with 2 Axes>"
      ]
     },
     "metadata": {},
     "output_type": "display_data"
    }
   ],
   "source": [
    "# ram(GB)\n",
    "fig, axes = plt.subplots(2,1, figsize = (9, 5), height_ratios=[.2, .8], layout = 'constrained')\n",
    "sns.boxplot(data = df_data, x = 'ram(GB)', ax = axes[0])\n",
    "sns.distplot(df_data['ram(GB)'], ax = axes[1])\n",
    "axes[1].axvline(df_data['ram(GB)'].median(), color = 'r', linewidth = 2.5, label = '중앙값 : ' + str(round(df_data['ram(GB)'].median(), 2)) + 'Kg')\n",
    "axes[1].axvline(df_data['ram(GB)'].mean(), color = 'g', linewidth = 2.5, label = '평균값 : ' + str(round(df_data['ram(GB)'].mean(), 2)) + 'Kg')\n",
    "axes[1].legend(loc = 'upper right')"
   ]
  },
  {
   "cell_type": "code",
   "execution_count": 378,
   "id": "6901d143",
   "metadata": {},
   "outputs": [
    {
     "name": "stderr",
     "output_type": "stream",
     "text": [
      "/home/jjam/.local/lib/python3.10/site-packages/seaborn/utils.py:80: UserWarning: Glyph 8722 (\\N{MINUS SIGN}) missing from current font.\n",
      "  fig.canvas.draw()\n"
     ]
    },
    {
     "data": {
      "text/plain": [
       "Text(0.5, 1.0, '상관도 Heatmap')"
      ]
     },
     "execution_count": 378,
     "metadata": {},
     "output_type": "execute_result"
    },
    {
     "name": "stderr",
     "output_type": "stream",
     "text": [
      "/usr/lib/python3/dist-packages/IPython/core/events.py:89: UserWarning: Glyph 8722 (\\N{MINUS SIGN}) missing from current font.\n",
      "  func(*args, **kwargs)\n",
      "/usr/lib/python3/dist-packages/IPython/core/pylabtools.py:151: UserWarning: Glyph 8722 (\\N{MINUS SIGN}) missing from current font.\n",
      "  fig.canvas.print_figure(bytes_io, **kw)\n"
     ]
    },
    {
     "data": {
      "image/png": "[encoded data removed]",
      "text/plain": [
       "<Figure size 360x288 with 2 Axes>"
      ]
     },
     "metadata": {},
     "output_type": "display_data"
    }
   ],
   "source": [
    "fig, axe = plt.subplots(figsize=(5,4))\n",
    "axe = sns.heatmap(df_data[['inches', 'price_euros', 'cpu(GHz)', 'weight(Kg)', 'memory(GB)', 'ram(GB)', 'gputype1', 'cputype1']].corr(), cmap='RdYlBu', annot=True, vmin=-1, vmax=1)\n",
    "axe.set_title('상관도 Heatmap')"
   ]
  },
  {
   "cell_type": "code",
   "execution_count": 387,
   "id": "7e8814d7",
   "metadata": {},
   "outputs": [],
   "source": [
    "# linear_regression 생성\n",
    "X = df_data[['cpu(GHz)', 'weight(Kg)', 'memory(GB)', 'ram(GB)', 'gputype1']]\n",
    "\n",
    "y = df_data['price_euros']"
   ]
  },
  {
   "cell_type": "code",
   "execution_count": 388,
   "id": "66597076",
   "metadata": {},
   "outputs": [],
   "source": [
    "X_train, X_test, y_train, y_test = train_test_split(X, y, random_state = 65) # 65"
   ]
  },
  {
   "cell_type": "code",
   "execution_count": 214,
   "id": "76bddad8",
   "metadata": {},
   "outputs": [
    {
     "data": {
      "text/plain": [
       "<seaborn.axisgrid.FacetGrid at 0x7fc0bc64ead0>"
      ]
     },
     "execution_count": 214,
     "metadata": {},
     "output_type": "execute_result"
    },
    {
     "data": {
      "image/png": "[encoded data removed]",
      "text/plain": [
       "<Figure size 360x360 with 1 Axes>"
      ]
     },
     "metadata": {},
     "output_type": "display_data"
    },
    {
     "data": {
      "image/png": "[encoded data removed]",
      "text/plain": [
       "<Figure size 360x360 with 1 Axes>"
      ]
     },
     "metadata": {},
     "output_type": "display_data"
    }
   ],
   "source": [
    "sns.catplot(X_train)\n",
    "\n",
    "mms = MinMaxScaler().fit(X_train)\n",
    "X_train = mms.transform(X_train)\n",
    "X_test = mms.transform(X_test)\n",
    "\n",
    "sns.catplot(X_train)"
   ]
  },
  {
   "cell_type": "code",
   "execution_count": 389,
   "id": "3205b677",
   "metadata": {},
   "outputs": [
    {
     "name": "stdout",
     "output_type": "stream",
     "text": [
      "[-1.36324576e+11 -1.65087867e+11  1.35849252e+11  9.62417231e+10\n",
      " -7.21083745e+10]\n",
      "[-8.27713999e+10]\n",
      "train score :  -2.2857354856932336e+22\n",
      "test score :  -2.1088174120728214e+22\n",
      "=================================================\n",
      "\n",
      "[ 2.80976917e+02 -1.26775330e+02 -1.57335917e-01  9.37962431e+01\n",
      "  1.26260615e+02]\n",
      "-94.85055875138005\n",
      "train score :  0.582767155660992\n",
      "test score :  0.6960516454302206\n",
      "=================================================\n",
      "\n",
      "[ 2.79218079e+02 -1.24503745e+02 -1.58346578e-01  9.38332293e+01\n",
      "  1.24817747e+02]\n",
      "-93.41296697837811\n",
      "train score :  0.5827604259473729\n",
      "test score :  0.6961002980284825\n",
      "=================================================\n",
      "\n",
      "[ 2.81666118e+02 -1.27179458e+02 -1.57196003e-01  9.37786716e+01\n",
      "  1.26444726e+02]\n",
      "-95.76690219110219\n",
      "train score :  0.5827674423610694\n",
      "test score :  0.6960336438502058\n",
      "=================================================\n",
      "\n"
     ]
    }
   ],
   "source": [
    "for m in [SGDRegressor(max_iter=1000), Ridge(alpha = 0.5), \n",
    "          Lasso(alpha = 0.5), LinearRegression()]:\n",
    "    m.fit(X_train, y_train)\n",
    "    print(m.coef_) # 기울기\n",
    "    print(m.intercept_) # y절편\n",
    "    print('train score : ', m.score(X_train, y_train))\n",
    "    print('test score : ', m.score(X_test, y_test))\n",
    "    print('=================================================')\n",
    "    print('')\n",
    "\n",
    "# intel - 1\n",
    "# Nvidia - 2\n",
    "# AMD - 0\n",
    "    \n",
    "# ax + b = price\n",
    "# (801.64633614*cpu(input) + -374.05380669*weight(input) + -414.16571055*memory(input) + 6028.96571944*ram)(input) + 322.08074266185736"
   ]
  },
  {
   "cell_type": "code",
   "execution_count": 399,
   "id": "4b42a725",
   "metadata": {},
   "outputs": [
    {
     "name": "stdout",
     "output_type": "stream",
     "text": [
      "3.2 2.32 512 16\n",
      "[ 805.56467441 1029.15114746]\n",
      "예상되는 GPU가 NVIDIA인 노트북 가격은 :  1427433.0 원 정도입니다.\n",
      "예상되는 GPU가 인텔인 노트북 가격은 :  1117318.0 원 정도입니다.\n"
     ]
    }
   ],
   "source": [
    "cpu, weight, memory, ram = list(map(float, input('').split()))\n",
    "# cpu : 2 ~ 3.5\n",
    "# weight :\n",
    "# memory : 128, 256, 512, 1024\n",
    "# ram : 4, 8, 16, 32\n",
    "# intel - 1, Nvidia - 2\n",
    "price = (m.coef_[0]*cpu, m.coef_[1]*weight + m.coef_[2]*memory + m.coef_[3]*ram) + m.intercept_ \n",
    "# 3.2 2.32 512 16 인것 \n",
    "print(price)\n",
    "print('예상되는 GPU가 NVIDIA인 노트북 가격은 : ', round(price[1]*1387, 0), '원 정도입니다.')\n",
    "print('예상되는 GPU가 인텔인 노트북 가격은 : ', round(price[0]*1387, 0), '원 정도입니다.')"
   ]
  },
  {
   "cell_type": "code",
   "execution_count": 468,
   "id": "3881c905",
   "metadata": {},
   "outputs": [],
   "source": [
    "class laptop_price:\n",
    "    def __init__(self):\n",
    "        print(\"무엇을 도와드릴까요?\")\n",
    "        self.cpu = 0\n",
    "        self.weight = 0\n",
    "        self.memory = 0\n",
    "        self.ram = 0\n",
    "        self.coef_ = [2.81666118e+02, -1.27179458e+02, -1.57196003e-01, 9.37786716e+01, 1.26444726e+02]\n",
    "        self.intercept_ = -95.76690219110219\n",
    "        self.ans = input()\n",
    "        if self.ans == 'laptop':\n",
    "            print('알겠습니다. 노트북 가격 예측을 도와드리겠습니다.')\n",
    "            print(\"원하시는 cpu의 주파수, 노트북의 무게, 메모리, RAM을 순서대로 적어 주십시오.\")\n",
    "            print('*주의 사항* 다음 항목을 적을 땐 띄어쓰기 한 번 만 해주십시오.')\n",
    "            print('또한, 정확하게 4개를 입력해야 제가 정확한 예측이 가능합니다.')\n",
    "            self.cpu, self.weight, self.memory, self.ram = list(map(float, input('').split()))\n",
    "            self.price = self.coef_[0]*self.cpu, self.coef_[1]*self.weight + self.coef_[2]*self.memory + self.coef_[3]*self.ram + self.intercept_\n",
    "        else:\n",
    "            print('죄송합니다. 다시 한 번 제가 도와드릴 항목을 적어 주십시오.')\n",
    "            \n",
    "    def check_price(self):\n",
    "        print('알겠습니다. cpu주파수가', self.cpu,'GHz, 무게가',self.weight,'kg, 메모리가',self.memory,'GB, RAM이',self.ram,\n",
    "              'GB인 노트북의 가격을 예측합니다. 스펙이 맞나요?')\n",
    "        ans_1 = input()\n",
    "        if ans_1 == '네':\n",
    "            print('노트북 가격 예측을 시작합니다.')\n",
    "            print('예상되는 GPU가 NVIDIA인 노트북 가격은 : ', round(self.price[1]*1387, 0), '원 정도입니다.')\n",
    "            print('예상되는 GPU가 인텔인 노트북 가격은 : ', round(self.price[0]*1387, 0), '원 정도입니다.')\n",
    "        else:\n",
    "            print('스펙을 체크하시고, 저를 다시 실행하여 주시기 바랍니다.')"
   ]
  },
  {
   "cell_type": "code",
   "execution_count": 470,
   "id": "9b57c8a8",
   "metadata": {},
   "outputs": [
    {
     "name": "stdout",
     "output_type": "stream",
     "text": [
      "무엇을 도와드릴까요?\n",
      "laptop\n",
      "알겠습니다. 노트북 가격 예측을 도와드리겠습니다.\n",
      "원하시는 cpu의 주파수, 노트북의 무게, 메모리, RAM을 순서대로 적어 주십시오.\n",
      "*주의 사항* 다음 항목을 적을 땐 띄어쓰기 한 번 만 해주십시오.\n",
      "또한, 정확하게 4개를 입력해야 제가 정확한 예측이 가능합니다.\n",
      "3.2 2.32 512 16\n",
      "알겠습니다. cpu주파수가 3.2 GHz, 무게가 2.32 kg, 메모리가 512.0 GB, RAM이 16.0 GB인 노트북의 가격을 예측합니다. 스펙이 맞나요?\n",
      "네\n",
      "노트북 가격 예측을 시작합니다.\n",
      "예상되는 GPU가 NVIDIA인 노트북 가격은 :  1427433.0 원 정도입니다.\n",
      "예상되는 GPU가 인텔인 노트북 가격은 :  1250147.0 원 정도입니다.\n"
     ]
    }
   ],
   "source": [
    "p = laptop_price()\n",
    "p.check_price()"
   ]
  }
 ],
 "metadata": {
  "kernelspec": {
   "display_name": "Python 3 (ipykernel)",
   "language": "python",
   "name": "python3"
  },
  "language_info": {
   "codemirror_mode": {
    "name": "ipython",
    "version": 3
   },
   "file_extension": ".py",
   "mimetype": "text/x-python",
   "name": "python",
   "nbconvert_exporter": "python",
   "pygments_lexer": "ipython3",
   "version": "3.10.6"
  }
 },
 "nbformat": 4,
 "nbformat_minor": 5
}
